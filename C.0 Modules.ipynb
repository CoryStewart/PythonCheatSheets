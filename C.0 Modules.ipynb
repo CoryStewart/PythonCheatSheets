{
 "metadata": {
  "name": ""
 },
 "nbformat": 3,
 "nbformat_minor": 0,
 "worksheets": [
  {
   "cells": [
    {
     "cell_type": "heading",
     "level": 1,
     "metadata": {},
     "source": [
      "Summary"
     ]
    },
    {
     "cell_type": "markdown",
     "metadata": {},
     "source": [
      "* Modules organize code into packages with separate namespaces\n",
      "* Imports give access to module's namespace.  Can give acces while keeping the namespace separate or merge.\n",
      "* Imported file's top-level code (global assignements) is executed immediately (but only once) upon the first import.  Subsequent imports of the same module (eg: other files that import the same module) do *not* cause the top-level code to execute again but they do make the namespace available in that file.\n",
      "\n",
      "<b>import b</b> means:<br>\n",
      "* Load the file b.py (from the search path) (unless it's already loaded), and give me access to all its attributes through the name b.\n",
      "\n",
      "<b>from b import X</b> means:<br>\n",
      "* load file b.py (located in the search path) (unless it's already loaded), and give me access to its X attribute through my local namespaces.\n",
      "\n",
      "<b>from b import \\*</b> means:<br>\n",
      "* load file b.py (located in the search path) (unless it's already loaded), and give me acces to *ALL* of its attributes in my own local namespace.  This method of import is highly discouraged because it corrupts the separation of namespaces.  However, it is frequently used in online tutorials for a given module because it reduces typing and the tutorial is intended to cover a single module.\n",
      "\n",
      "<b>import b as xyz</b> means:<br>\n",
      "* Load the file b.py (from the search path) (unless it's already loaded), and give me access to all its attributes through the name xyz.  (same as 'import b' but uses the xyz namespace)\n",
      "\n",
      "Import Behind-the-scenes steps:\n",
      "------\n",
      "1. *Find* the module's file\n",
      "2. *Compile* it to bye code (if needed).  If byte-code timestamp is later than source, no recompile.\n",
      "3. *Run* the modules code to build the objects it defines."
     ]
    },
    {
     "cell_type": "markdown",
     "metadata": {},
     "source": [
      "Byte-Code Cache:\n",
      "------\n",
      "- Compiled .py files are stored as compiled byte-code .pyc files (2.X).  If timestamps indicate the .pyc file is later than the source then recompile is not necessary.\n",
      "- Compiled byte-code can be delivered with a program without the source.\n",
      "- 2.X stored all .pyc byte-code files in the same dir.  3.X stores them in a subdir '__pycache__'."
     ]
    },
    {
     "cell_type": "heading",
     "level": 1,
     "metadata": {},
     "source": [
      "Module Search Path Resolution:"
     ]
    },
    {
     "cell_type": "markdown",
     "metadata": {},
     "source": [
      "1. The directory of the top-level program.\n",
      "2. PYTHONPATH directories (if defined).\n",
      "3. Standard library directories.\n",
      "4. The contents of any .pth files (if present).  These have one-per-line lists of directories to search and can be written in any of the normal search path locations.  They get search in the 4th place (this line -- before 'site-packages' are searched).\n",
      "5. The site-packages home of third-party extensions\n",
      "\n",
      "<pre>\n",
      "Bottom line:\n",
      "   import sys\n",
      "   print sys.path : to see the actual search path on any given machine.\n",
      "</pre>\n",
      "sys.path can also be modified within your program before import stmts."
     ]
    },
    {
     "cell_type": "heading",
     "level": 2,
     "metadata": {},
     "source": [
      "Other kinds of Modules:"
     ]
    },
    {
     "cell_type": "markdown",
     "metadata": {},
     "source": [
      "* import stmts are also used to bring in external language routines: C, C++, Java, etc."
     ]
    },
    {
     "cell_type": "heading",
     "level": 3,
     "metadata": {},
     "source": [
      "Module Gotcha's:"
     ]
    },
    {
     "cell_type": "markdown",
     "metadata": {},
     "source": [
      "* modules names cannot be reserve words.  Eg: if.py cannot be imported because it conflicts with 'if'"
     ]
    },
    {
     "cell_type": "heading",
     "level": 1,
     "metadata": {},
     "source": [
      "Writing a Module"
     ]
    },
    {
     "cell_type": "code",
     "collapsed": false,
     "input": [
      "# Make your module like this:\n",
      "\n",
      "# import blah\n",
      "def func1():\n",
      "    pass\n",
      "def func2():\n",
      "    pass\n",
      "def main():\n",
      "    # This is your code that does what you want, calling your func's.  But when your module is imported\n",
      "    # this main function will not run.  However all your functions will be reusable by whoever imports.\n",
      "    # ALSO:  Your funcs should not print results.  Your funcs should return results in lists/dicts/tuples/etc\n",
      "    #        and allow the importer to print them if desired.\n",
      "    pass\n",
      "\n",
      "if __name__ == '__main__':\n",
      "    main()"
     ],
     "language": "python",
     "metadata": {},
     "outputs": [],
     "prompt_number": 4
    },
    {
     "cell_type": "code",
     "collapsed": false,
     "input": [],
     "language": "python",
     "metadata": {},
     "outputs": []
    }
   ],
   "metadata": {}
  }
 ]
}