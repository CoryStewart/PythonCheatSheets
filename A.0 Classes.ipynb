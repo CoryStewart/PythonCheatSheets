{
 "metadata": {
  "name": ""
 },
 "nbformat": 3,
 "nbformat_minor": 0,
 "worksheets": [
  {
   "cells": [
    {
     "cell_type": "code",
     "collapsed": false,
     "input": [
      "# Python creates objects for the CLASS *and* for each INSTANCE of the\n",
      "# class.  And creates a search tree when resolving attributes\n",
      "# (member variables and methods).  Instance objects are found first,\n",
      "# followed by the the parent(s) class object."
     ],
     "language": "python",
     "metadata": {},
     "outputs": [],
     "prompt_number": 39
    },
    {
     "cell_type": "code",
     "collapsed": false,
     "input": [
      "# Class names should have the initial letter capitalized\n",
      "# Methods: are camelCased\n",
      "\n",
      "# Private vars have initial underscore (convention only - not truly private)"
     ],
     "language": "python",
     "metadata": {},
     "outputs": [],
     "prompt_number": 40
    },
    {
     "cell_type": "code",
     "collapsed": false,
     "input": [
      "class Worker:         # class stmt create the 'class object'\n",
      "#class Worker( Person ):  \n",
      "                      # form used if derived from a parent class (Person).\n",
      "                      # Can be derived from multiple (comma-sep) parents.\n",
      "    _num_workers = 0  # (static) class variable: shared among all \n",
      "                      # instances and initialized when the class \n",
      "                      # object is created.\n",
      "                      # This is \"private\" (initial underscore)\n",
      "# All methods automatically receive a 1st arg 'self' that the caller\n",
      "# doesn't explicitly provide but is automatically provided.  It is a \n",
      "# reference to the caller object.  Eg:  if the call looked like:\n",
      "#    bob.mymethod() \n",
      "# then mymethod gets a 1st arg 'self' that points to the 'bob' instance.\n",
      "    def __init__( self, name, pay ):  # constructor\n",
      "        self.name = name   # self assigns to the instance object\n",
      "        self.pay = pay\n",
      "        Worker._num_workers += 1  # No 'self.' so this is accessing the\n",
      "                           # class object var.\n",
      "    def getNumWorkers(self):\n",
      "        return self._num_workers;"
     ],
     "language": "python",
     "metadata": {},
     "outputs": [],
     "prompt_number": 41
    },
    {
     "cell_type": "code",
     "collapsed": false,
     "input": [
      "# Calling the 'class' object like a function creates an instance:\n",
      "bob = Worker( 'Bob Smith', 50000 )"
     ],
     "language": "python",
     "metadata": {},
     "outputs": [],
     "prompt_number": 42
    },
    {
     "cell_type": "code",
     "collapsed": false,
     "input": [
      "sue = Worker( \"Sue Harding\", 75000 )"
     ],
     "language": "python",
     "metadata": {},
     "outputs": [],
     "prompt_number": 43
    },
    {
     "cell_type": "code",
     "collapsed": false,
     "input": [
      "# Violating the convention that vars starting with '_' are private:\n",
      "Worker._num_workers  # works but bad form"
     ],
     "language": "python",
     "metadata": {},
     "outputs": [
      {
       "metadata": {},
       "output_type": "pyout",
       "prompt_number": 44,
       "text": [
        "2"
       ]
      }
     ],
     "prompt_number": 44
    },
    {
     "cell_type": "code",
     "collapsed": false,
     "input": [
      "bob._num_workers    # doesn't exist in the bob instance, so searches the \n",
      "                    # parent and find it."
     ],
     "language": "python",
     "metadata": {},
     "outputs": [
      {
       "metadata": {},
       "output_type": "pyout",
       "prompt_number": 45,
       "text": [
        "2"
       ]
      }
     ],
     "prompt_number": 45
    },
    {
     "cell_type": "code",
     "collapsed": false,
     "input": [
      "bob._num_workers = 100  # create a new instance var that hides the class var\n",
      "print '1)', bob._num_workers\n",
      "print '2)', Worker._num_workers\n",
      "print '3)', bob.getNumWorkers()\n",
      "#print '4)', Worker.getNumWorkers()   # Error. not sure why.?"
     ],
     "language": "python",
     "metadata": {},
     "outputs": [
      {
       "output_type": "stream",
       "stream": "stdout",
       "text": [
        "1) 100\n",
        "2) 2\n",
        "3) 100\n"
       ]
      }
     ],
     "prompt_number": 46
    },
    {
     "cell_type": "code",
     "collapsed": false,
     "input": [
      "sue.getNumWorkers()"
     ],
     "language": "python",
     "metadata": {},
     "outputs": [
      {
       "metadata": {},
       "output_type": "pyout",
       "prompt_number": 47,
       "text": [
        "2"
       ]
      }
     ],
     "prompt_number": 47
    }
   ],
   "metadata": {}
  }
 ]
}