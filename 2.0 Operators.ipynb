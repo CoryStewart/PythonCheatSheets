{
 "metadata": {
  "name": ""
 },
 "nbformat": 3,
 "nbformat_minor": 0,
 "worksheets": [
  {
   "cells": [
    {
     "cell_type": "code",
     "collapsed": false,
     "input": [
      "i1 = 12\n",
      "i2 = 2\n",
      "i3 = 2\n",
      "i4 = i2\n",
      "f1 = 3.14\n",
      "f2 = 2.10\n",
      "btrue1 = True\n",
      "btrue2 = True\n",
      "bfalse1 = False\n",
      "l1 = ['Todd', 'Kent', 'Cory']\n",
      "l2 = ['Ashley', 'Michael', 'Chelsea', 'Conner']\n",
      "bin1 = 0b0010\n",
      "bin2 = 0b0110\n",
      "dict1 = {'Todd' : 1963, 'Kent' : 1968, 'Cory' : 1969}"
     ],
     "language": "python",
     "metadata": {},
     "outputs": [],
     "prompt_number": 7
    },
    {
     "cell_type": "code",
     "collapsed": false,
     "input": [
      "# Ternary selection (x evaluated only if y is true)\n",
      "# x if y else z\n",
      "r = (2 * 2) if btrue1 else (3 * 3)\n",
      "print r\n",
      "r = (2 * 2) if bfalse1 else (3 * 3)\n",
      "print r"
     ],
     "language": "python",
     "metadata": {},
     "outputs": [
      {
       "output_type": "stream",
       "stream": "stdout",
       "text": [
        "4\n",
        "9\n"
       ]
      }
     ],
     "prompt_number": 8
    },
    {
     "cell_type": "code",
     "collapsed": false,
     "input": [
      "# Math Operators\n",
      "#    + - * / // -(negation) **(power) %(remainder)\n",
      "# Value Comparison Operators\n",
      "#   == != < > <= >=\n",
      "# String Operators\n",
      "#    +(concatenation) *(repetition) %(formatting)\n",
      "# Logical (boolean) Operators\n",
      "#   not and or\n",
      "# Bitwise Operators\n",
      "#   | & ^(xor) \u02dcx(inversion)\n",
      "# Shift Operators\n",
      "#   >> <<\n",
      "# Set Membership\n",
      "#     x in y; x not in y; &(intersection); ^(symmetric difference)\n",
      "#     |(union); >=(set subset/superset); <=(set subset/superset)\n"
     ],
     "language": "python",
     "metadata": {},
     "outputs": []
    },
    {
     "cell_type": "code",
     "collapsed": false,
     "input": [
      "# Division:   (/ is \"classic\" division; // is \"floor\" division)\n",
      "r = 29 / 10; print r  # classic: result is int because operands are\n",
      "r = 29. / 10; print r # classic: result is float because one operand is\n",
      "# // is 'floor' (truncation) but result is still float (since an operand was float)\n",
      "r = 29. // 10; print r   \n",
      "# int() is similar but result is always integer\n",
      "r = int( 29. / 10 ); print r\n",
      "\n",
      "# Note: python 3.X:\n",
      "#    / is called \"true division\".  It ALWAYS returns floats.\n",
      "#    For compatiblity always convert one operand to float:\n",
      "#        x = y / float(z)   # works same in 2.X & 3.X\n",
      "\n",
      "# Another gotcha:\n",
      "print \"---\"\n",
      "-5 // 2   # \"floor\" division isn't really truncation (it's round-down)\n",
      "# For true 'floor' functionality see math.floor()"
     ],
     "language": "python",
     "metadata": {},
     "outputs": [
      {
       "output_type": "stream",
       "stream": "stdout",
       "text": [
        "2\n",
        "2.9\n",
        "2.0\n",
        "2\n",
        "---\n"
       ]
      },
      {
       "metadata": {},
       "output_type": "pyout",
       "prompt_number": 25,
       "text": [
        "-3"
       ]
      }
     ],
     "prompt_number": 25
    },
    {
     "cell_type": "code",
     "collapsed": false,
     "input": [
      "i1 = 12\n",
      "i2 = 2\n",
      "i3 = 2   # python doesn't creeate a new object, it references the existing '2' object\n",
      "i4 = i2\n",
      "\n",
      "# Object Identity\n",
      "r1 = (i2 is i3)\n",
      "r2 = (i2 is i4)\n",
      "r3 = (i2 is (2 * 1))\n",
      "r4 = (i2 is (96 // 48))\n",
      "r5 = (i2 is (96.0 // 48))\n",
      "print r1, r2, r3, r4, r5"
     ],
     "language": "python",
     "metadata": {},
     "outputs": [
      {
       "output_type": "stream",
       "stream": "stdout",
       "text": [
        "True True True True False\n"
       ]
      }
     ],
     "prompt_number": 14
    },
    {
     "cell_type": "code",
     "collapsed": false,
     "input": [
      "# Comparison Chaining\n",
      "r1 = (1 < 2 < 10)   # identical to ((1 < 2) and (2 < 10))\n",
      "r2 = (2 < 1 < 10)\n",
      "r1, r2"
     ],
     "language": "python",
     "metadata": {},
     "outputs": [
      {
       "metadata": {},
       "output_type": "pyout",
       "prompt_number": 16,
       "text": [
        "(True, False)"
       ]
      }
     ],
     "prompt_number": 16
    },
    {
     "cell_type": "code",
     "collapsed": false,
     "input": [
      "# Base Conversions:\n",
      "oct(64), hex(64), bin(64), int('0x40', 16), int('1000', 2)"
     ],
     "language": "python",
     "metadata": {},
     "outputs": [
      {
       "metadata": {},
       "output_type": "pyout",
       "prompt_number": 26,
       "text": [
        "('0100', '0x40', '0b1000000', 64, 8)"
       ]
      }
     ],
     "prompt_number": 26
    },
    {
     "cell_type": "code",
     "collapsed": false,
     "input": [
      "x1 = int('0x80', 16) >> 2\n",
      "print x1\n",
      "hex( x1 )"
     ],
     "language": "python",
     "metadata": {},
     "outputs": [
      {
       "output_type": "stream",
       "stream": "stdout",
       "text": [
        "32\n"
       ]
      },
      {
       "metadata": {},
       "output_type": "pyout",
       "prompt_number": 31,
       "text": [
        "'0x20'"
       ]
      }
     ],
     "prompt_number": 31
    },
    {
     "cell_type": "code",
     "collapsed": false,
     "input": [
      "x1 |= 0x4  # bitwise or\n",
      "hex( x1 )"
     ],
     "language": "python",
     "metadata": {},
     "outputs": [
      {
       "metadata": {},
       "output_type": "pyout",
       "prompt_number": 34,
       "text": [
        "'0x24'"
       ]
      }
     ],
     "prompt_number": 34
    },
    {
     "cell_type": "code",
     "collapsed": false,
     "input": [],
     "language": "python",
     "metadata": {},
     "outputs": []
    }
   ],
   "metadata": {}
  }
 ]
}