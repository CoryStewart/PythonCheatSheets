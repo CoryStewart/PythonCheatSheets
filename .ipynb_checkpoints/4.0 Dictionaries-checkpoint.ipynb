{
 "metadata": {
  "name": ""
 },
 "nbformat": 3,
 "nbformat_minor": 0,
 "worksheets": [
  {
   "cells": [
    {
     "cell_type": "code",
     "collapsed": false,
     "input": [
      "# Dictionaries are mutable mappings of key & value pairs."
     ],
     "language": "python",
     "metadata": {},
     "outputs": [],
     "prompt_number": 135
    },
    {
     "cell_type": "code",
     "collapsed": false,
     "input": [
      "D = {}   # create an empty dict\n",
      "D = {'food': 'Spam', 'quantity': 4, 'color': 'pink'}\n",
      "D2 = dict(name='Bob', age=40) # Another way to create a dict\n",
      "D3 = dict( zip( ['name', 'age'], ['Bob', 40] ) ) # Another way (zip)\n",
      "D3"
     ],
     "language": "python",
     "metadata": {},
     "outputs": [
      {
       "metadata": {},
       "output_type": "pyout",
       "prompt_number": 136,
       "text": [
        "{'age': 40, 'name': 'Bob'}"
       ]
      }
     ],
     "prompt_number": 136
    },
    {
     "cell_type": "code",
     "collapsed": false,
     "input": [
      "print D\n",
      "len(D)   # number of entries"
     ],
     "language": "python",
     "metadata": {},
     "outputs": [
      {
       "output_type": "stream",
       "stream": "stdout",
       "text": [
        "{'food': 'Spam', 'color': 'pink', 'quantity': 4}\n"
       ]
      },
      {
       "metadata": {},
       "output_type": "pyout",
       "prompt_number": 137,
       "text": [
        "3"
       ]
      }
     ],
     "prompt_number": 137
    },
    {
     "cell_type": "code",
     "collapsed": false,
     "input": [
      "# Value look up:\n",
      "D['food']"
     ],
     "language": "python",
     "metadata": {},
     "outputs": [
      {
       "metadata": {},
       "output_type": "pyout",
       "prompt_number": 138,
       "text": [
        "'Spam'"
       ]
      }
     ],
     "prompt_number": 138
    },
    {
     "cell_type": "code",
     "collapsed": false,
     "input": [
      "'MissingKey' in D"
     ],
     "language": "python",
     "metadata": {},
     "outputs": [
      {
       "metadata": {},
       "output_type": "pyout",
       "prompt_number": 139,
       "text": [
        "False"
       ]
      }
     ],
     "prompt_number": 139
    },
    {
     "cell_type": "code",
     "collapsed": false,
     "input": [
      "# **** Error if key is not in the dict!!  ****\n",
      "D['MissingKey']"
     ],
     "language": "python",
     "metadata": {},
     "outputs": [
      {
       "ename": "KeyError",
       "evalue": "'MissingKey'",
       "output_type": "pyerr",
       "traceback": [
        "\u001b[1;31m---------------------------------------------------------------------------\u001b[0m\n\u001b[1;31mKeyError\u001b[0m                                  Traceback (most recent call last)",
        "\u001b[1;32m<ipython-input-140-ef8b29500d5b>\u001b[0m in \u001b[0;36m<module>\u001b[1;34m()\u001b[0m\n\u001b[0;32m      1\u001b[0m \u001b[1;31m# **** Error if key is not in the dict!!  ****\u001b[0m\u001b[1;33m\u001b[0m\u001b[1;33m\u001b[0m\u001b[0m\n\u001b[1;32m----> 2\u001b[1;33m \u001b[0mD\u001b[0m\u001b[1;33m[\u001b[0m\u001b[1;34m'MissingKey'\u001b[0m\u001b[1;33m]\u001b[0m\u001b[1;33m\u001b[0m\u001b[0m\n\u001b[0m",
        "\u001b[1;31mKeyError\u001b[0m: 'MissingKey'"
       ]
      }
     ],
     "prompt_number": 140
    },
    {
     "cell_type": "code",
     "collapsed": false,
     "input": [
      "# Solution:   \n",
      "# Use get() which returns a default 'None' for missing items.  And\n",
      "# allows you to override the default too:\n",
      "print D.get('MissingKey')   # Returns: None\n",
      "print D.get('MissingKey', 232)   # Returns: 232\n",
      "print D.setdefault('MissingKey', 0) # same as Get (fetches by key) but also set the default for all missing keys in the future\n",
      "print D.get('MissingKey')   # Returns: 0"
     ],
     "language": "python",
     "metadata": {},
     "outputs": [
      {
       "output_type": "stream",
       "stream": "stdout",
       "text": [
        "None\n",
        "232\n",
        "0\n",
        "0\n"
       ]
      }
     ],
     "prompt_number": 141
    },
    {
     "cell_type": "code",
     "collapsed": false,
     "input": [
      "# Value lookups look like lists (square brackets) but use strings\n",
      "# as the index instead of integers:\n",
      "D['food'] # fetch value"
     ],
     "language": "python",
     "metadata": {},
     "outputs": [
      {
       "metadata": {},
       "output_type": "pyout",
       "prompt_number": 142,
       "text": [
        "'Spam'"
       ]
      }
     ],
     "prompt_number": 142
    },
    {
     "cell_type": "code",
     "collapsed": false,
     "input": [
      "D['quantity'] += 1\n",
      "D"
     ],
     "language": "python",
     "metadata": {},
     "outputs": [
      {
       "metadata": {},
       "output_type": "pyout",
       "prompt_number": 143,
       "text": [
        "{'MissingKey': 0, 'color': 'pink', 'food': 'Spam', 'quantity': 5}"
       ]
      }
     ],
     "prompt_number": 143
    },
    {
     "cell_type": "code",
     "collapsed": false,
     "input": [
      "D = {}   # create empty dictionary\n",
      "D['name'] = 'Bob'   # assign each item individually\n",
      "D['job'] = 'dev'\n",
      "D['age'] = 40\n",
      "D"
     ],
     "language": "python",
     "metadata": {},
     "outputs": [
      {
       "metadata": {},
       "output_type": "pyout",
       "prompt_number": 144,
       "text": [
        "{'age': 40, 'job': 'dev', 'name': 'Bob'}"
       ]
      }
     ],
     "prompt_number": 144
    },
    {
     "cell_type": "code",
     "collapsed": false,
     "input": [
      "# Another way to create a dictionary with name=value syntax:\n",
      "D2 = dict( name='Mary', job='CEO', age=62 )\n",
      "D2"
     ],
     "language": "python",
     "metadata": {},
     "outputs": [
      {
       "metadata": {},
       "output_type": "pyout",
       "prompt_number": 145,
       "text": [
        "{'age': 62, 'job': 'CEO', 'name': 'Mary'}"
       ]
      }
     ],
     "prompt_number": 145
    },
    {
     "cell_type": "code",
     "collapsed": false,
     "input": [
      "D = {'b':2, 'a':1, 'c':3}\n",
      "D['e'] = 99\n",
      "D"
     ],
     "language": "python",
     "metadata": {},
     "outputs": [
      {
       "metadata": {},
       "output_type": "pyout",
       "prompt_number": 146,
       "text": [
        "{'a': 1, 'b': 2, 'c': 3, 'e': 99}"
       ]
      }
     ],
     "prompt_number": 146
    },
    {
     "cell_type": "code",
     "collapsed": false,
     "input": [
      "# D['f']   # ERROR!   Referencing a nonexistent key is an error\n",
      "# So check first:\n",
      "'f' in D"
     ],
     "language": "python",
     "metadata": {},
     "outputs": [
      {
       "metadata": {},
       "output_type": "pyout",
       "prompt_number": 147,
       "text": [
        "False"
       ]
      }
     ],
     "prompt_number": 147
    },
    {
     "cell_type": "code",
     "collapsed": false,
     "input": [
      "print D\n",
      "D.keys()   # returns a LIST"
     ],
     "language": "python",
     "metadata": {},
     "outputs": [
      {
       "output_type": "stream",
       "stream": "stdout",
       "text": [
        "{'a': 1, 'c': 3, 'b': 2, 'e': 99}\n"
       ]
      },
      {
       "metadata": {},
       "output_type": "pyout",
       "prompt_number": 148,
       "text": [
        "['a', 'c', 'b', 'e']"
       ]
      }
     ],
     "prompt_number": 148
    },
    {
     "cell_type": "code",
     "collapsed": false,
     "input": [
      "D.values()  # returns a list"
     ],
     "language": "python",
     "metadata": {},
     "outputs": [
      {
       "metadata": {},
       "output_type": "pyout",
       "prompt_number": 149,
       "text": [
        "[1, 3, 2, 99]"
       ]
      }
     ],
     "prompt_number": 149
    },
    {
     "cell_type": "code",
     "collapsed": false,
     "input": [
      "D.items()   # returns a list of (key,value) tuples"
     ],
     "language": "python",
     "metadata": {},
     "outputs": [
      {
       "metadata": {},
       "output_type": "pyout",
       "prompt_number": 150,
       "text": [
        "[('a', 1), ('c', 3), ('b', 2), ('e', 99)]"
       ]
      }
     ],
     "prompt_number": 150
    },
    {
     "cell_type": "code",
     "collapsed": false,
     "input": [
      "del D['c']   # delete an item\n",
      "D.items()"
     ],
     "language": "python",
     "metadata": {},
     "outputs": [
      {
       "metadata": {},
       "output_type": "pyout",
       "prompt_number": 151,
       "text": [
        "[('a', 1), ('b', 2), ('e', 99)]"
       ]
      }
     ],
     "prompt_number": 151
    },
    {
     "cell_type": "code",
     "collapsed": false,
     "input": [
      "# Add new item:\n",
      "D['f'] = 'foo'\n",
      "D"
     ],
     "language": "python",
     "metadata": {},
     "outputs": [
      {
       "metadata": {},
       "output_type": "pyout",
       "prompt_number": 152,
       "text": [
        "{'a': 1, 'b': 2, 'e': 99, 'f': 'foo'}"
       ]
      }
     ],
     "prompt_number": 152
    },
    {
     "cell_type": "code",
     "collapsed": false,
     "input": [
      "# But for some reason, we have to convert it to a list before iterating ???\n",
      "Ks = D.keys() # returns a list\n",
      "Ks.sort()  # .sort() sorts in-place\n",
      "Ks"
     ],
     "language": "python",
     "metadata": {},
     "outputs": [
      {
       "metadata": {},
       "output_type": "pyout",
       "prompt_number": 153,
       "text": [
        "['a', 'b', 'e', 'f']"
       ]
      }
     ],
     "prompt_number": 153
    },
    {
     "cell_type": "code",
     "collapsed": false,
     "input": [
      "# Iterate through sorted keys:\n",
      "for key in Ks:\n",
      "    print( key, '=>', D[key] )"
     ],
     "language": "python",
     "metadata": {},
     "outputs": [
      {
       "output_type": "stream",
       "stream": "stdout",
       "text": [
        "('a', '=>', 1)\n",
        "('b', '=>', 2)\n",
        "('e', '=>', 99)\n",
        "('f', '=>', 'foo')\n"
       ]
      }
     ],
     "prompt_number": 154
    },
    {
     "cell_type": "code",
     "collapsed": false,
     "input": [
      "# The above was a 3step process.  A better way:\n",
      "for key in sorted( D ):\n",
      "    print( key, '=>', D[key] )"
     ],
     "language": "python",
     "metadata": {},
     "outputs": [
      {
       "output_type": "stream",
       "stream": "stdout",
       "text": [
        "('a', '=>', 1)\n",
        "('b', '=>', 2)\n",
        "('e', '=>', 99)\n",
        "('f', '=>', 'foo')\n"
       ]
      }
     ],
     "prompt_number": 155
    },
    {
     "cell_type": "code",
     "collapsed": false,
     "input": [
      "new_copy_of_D = D.copy()\n",
      "new_copy_of_D"
     ],
     "language": "python",
     "metadata": {},
     "outputs": [
      {
       "metadata": {},
       "output_type": "pyout",
       "prompt_number": 156,
       "text": [
        "{'a': 1, 'b': 2, 'e': 99, 'f': 'foo'}"
       ]
      }
     ],
     "prompt_number": 156
    },
    {
     "cell_type": "code",
     "collapsed": false,
     "input": [
      "D.clear()\n",
      "D"
     ],
     "language": "python",
     "metadata": {},
     "outputs": [
      {
       "metadata": {},
       "output_type": "pyout",
       "prompt_number": 157,
       "text": [
        "{}"
       ]
      }
     ],
     "prompt_number": 157
    },
    {
     "cell_type": "code",
     "collapsed": false,
     "input": [
      "new_copy_of_D"
     ],
     "language": "python",
     "metadata": {},
     "outputs": [
      {
       "metadata": {},
       "output_type": "pyout",
       "prompt_number": 158,
       "text": [
        "{'a': 1, 'b': 2, 'e': 99, 'f': 'foo'}"
       ]
      }
     ],
     "prompt_number": 158
    },
    {
     "cell_type": "code",
     "collapsed": false,
     "input": [
      "# Merging two Dictionaries:\n",
      "d1 = {'a': 1, 'b': 2, 'c': 3}\n",
      "d2 = {'c': -1, 'd': -2, 'e': -3}\n",
      "d1.update( d2 )  # notice how the conflict on key 'c' overwrites d1's\n",
      "d1"
     ],
     "language": "python",
     "metadata": {},
     "outputs": [
      {
       "metadata": {},
       "output_type": "pyout",
       "prompt_number": 159,
       "text": [
        "{'a': 1, 'b': 2, 'c': -1, 'd': -2, 'e': -3}"
       ]
      }
     ],
     "prompt_number": 159
    },
    {
     "cell_type": "code",
     "collapsed": false,
     "input": [
      "# Pop performs a lookup, returning the value, but removes the item too.\n",
      "d1 = {'a': 1, 'b': 2, 'c': 3}\n",
      "res = d1.pop( 'b' )\n",
      "print 'result = %s' % (res)\n",
      "d1"
     ],
     "language": "python",
     "metadata": {},
     "outputs": [
      {
       "output_type": "stream",
       "stream": "stdout",
       "text": [
        "result = 2\n"
       ]
      },
      {
       "metadata": {},
       "output_type": "pyout",
       "prompt_number": 160,
       "text": [
        "{'a': 1, 'c': 3}"
       ]
      }
     ],
     "prompt_number": 160
    },
    {
     "cell_type": "heading",
     "level": 1,
     "metadata": {},
     "source": [
      "Misc"
     ]
    },
    {
     "cell_type": "code",
     "collapsed": false,
     "input": [
      "# Using tuples as keys:\n",
      "ipnames = {\n",
      "    (192,168,1,1):   'router',\n",
      "    (192,168,1,10):  'my_pc' }\n",
      "ipnames\n",
      "# Using tuples as keys is also good for \n",
      "# sparse multi-dimensional arrays"
     ],
     "language": "python",
     "metadata": {},
     "outputs": [
      {
       "metadata": {},
       "output_type": "pyout",
       "prompt_number": 161,
       "text": [
        "{(192, 168, 1, 1): 'router', (192, 168, 1, 10): 'my_pc'}"
       ]
      }
     ],
     "prompt_number": 161
    },
    {
     "cell_type": "code",
     "collapsed": false,
     "input": [
      "# Sparse Arrays implemented with dict:\n",
      "L = [] # create empty list\n",
      "D = {} # create empty dict\n",
      "\n",
      "# This gives an error because we're trying to write past the end:\n",
      "# L[99] = 'bad'\n",
      "# But this is fine:\n",
      "D[99] = 'good'\n",
      "D"
     ],
     "language": "python",
     "metadata": {},
     "outputs": [
      {
       "metadata": {},
       "output_type": "pyout",
       "prompt_number": 162,
       "text": [
        "{99: 'good'}"
       ]
      }
     ],
     "prompt_number": 162
    },
    {
     "cell_type": "code",
     "collapsed": false,
     "input": [
      "# Avoiding missing-key errors:\n",
      "# painful way:\n",
      "if (192,168,1,1) in ipnames:\n",
      "    print ipnames[(192,168,1,1)] \n",
      "else:\n",
      "    print( 0 )\n",
      "   \n",
      "# also painful:\n",
      "try:\n",
      "    print ipnames[(192,168,1,25)] \n",
      "except KeyError:\n",
      "    print(0)\n",
      "\n",
      "# least pain:\n",
      "print ipnames.get( (192,168,1,25) ) # returns None for missing keys"
     ],
     "language": "python",
     "metadata": {},
     "outputs": [
      {
       "output_type": "stream",
       "stream": "stdout",
       "text": [
        "router\n",
        "0\n",
        "None\n"
       ]
      }
     ],
     "prompt_number": 164
    },
    {
     "cell_type": "markdown",
     "metadata": {},
     "source": [
      "Dictionary Comprehensions\n",
      "----------"
     ]
    },
    {
     "cell_type": "code",
     "collapsed": false,
     "input": [
      "D = {k:v for (k,v) in zip(['a', 'b', 'c'], [1,2,3] ) }"
     ],
     "language": "python",
     "metadata": {},
     "outputs": [],
     "prompt_number": 165
    },
    {
     "cell_type": "code",
     "collapsed": false,
     "input": [
      "D"
     ],
     "language": "python",
     "metadata": {},
     "outputs": [
      {
       "metadata": {},
       "output_type": "pyout",
       "prompt_number": 166,
       "text": [
        "{'a': 1, 'b': 2, 'c': 3}"
       ]
      }
     ],
     "prompt_number": 166
    },
    {
     "cell_type": "code",
     "collapsed": false,
     "input": [
      "D = {x:x**2 for x in range(5)}"
     ],
     "language": "python",
     "metadata": {},
     "outputs": [],
     "prompt_number": 167
    },
    {
     "cell_type": "code",
     "collapsed": false,
     "input": [
      "D"
     ],
     "language": "python",
     "metadata": {},
     "outputs": [
      {
       "metadata": {},
       "output_type": "pyout",
       "prompt_number": 168,
       "text": [
        "{0: 0, 1: 1, 2: 4, 3: 9, 4: 16}"
       ]
      }
     ],
     "prompt_number": 168
    },
    {
     "cell_type": "code",
     "collapsed": false,
     "input": [
      "# const initialization\n",
      "D = {k:None for k in range(20,80,10)}\n",
      "D"
     ],
     "language": "python",
     "metadata": {},
     "outputs": [
      {
       "metadata": {},
       "output_type": "pyout",
       "prompt_number": 172,
       "text": [
        "{20: None, 30: None, 40: None, 50: None, 60: None, 70: None}"
       ]
      }
     ],
     "prompt_number": 172
    },
    {
     "cell_type": "code",
     "collapsed": false,
     "input": [
      "for k in D:     # dictionaries are iterable\n",
      "    print k"
     ],
     "language": "python",
     "metadata": {},
     "outputs": [
      {
       "output_type": "stream",
       "stream": "stdout",
       "text": [
        "70\n",
        "40\n",
        "50\n",
        "20\n",
        "60\n",
        "30\n"
       ]
      }
     ],
     "prompt_number": 173
    },
    {
     "cell_type": "code",
     "collapsed": false,
     "input": [],
     "language": "python",
     "metadata": {},
     "outputs": []
    }
   ],
   "metadata": {}
  }
 ]
}