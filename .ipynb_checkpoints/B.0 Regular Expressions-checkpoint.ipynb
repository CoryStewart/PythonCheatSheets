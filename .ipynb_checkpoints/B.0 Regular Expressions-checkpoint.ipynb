{
 "metadata": {
  "name": ""
 },
 "nbformat": 3,
 "nbformat_minor": 0,
 "worksheets": [
  {
   "cells": [
    {
     "cell_type": "code",
     "collapsed": false,
     "input": [
      "import re\n",
      "\n",
      "text1 = '11/27/2012'\n",
      "text2 = 'Nov 27, 2012'\n",
      "\n",
      "# Simple matching: \\d+ means match one or more digits\n",
      "if re.match(r'\\d+/\\d+/\\d+', text1):\n",
      "    print('yes')\n",
      "else:\n",
      "    print('no')"
     ],
     "language": "python",
     "metadata": {},
     "outputs": [
      {
       "output_type": "stream",
       "stream": "stdout",
       "text": [
        "yes\n"
       ]
      }
     ],
     "prompt_number": 3
    },
    {
     "cell_type": "code",
     "collapsed": false,
     "input": [
      "datepat = re.compile( r'(\\d+)/(\\d+)/(\\d+)' )\n",
      "m = datepat.match( text1 )\n",
      "if m:\n",
      "    print 'yes', m.group()\n",
      "    print m.group(1)\n",
      "    print m.group(3)\n",
      "else:\n",
      "    print 'no'"
     ],
     "language": "python",
     "metadata": {},
     "outputs": [
      {
       "output_type": "stream",
       "stream": "stdout",
       "text": [
        "yes 11/27/2012\n",
        "11\n",
        "2012\n"
       ]
      }
     ],
     "prompt_number": 6
    },
    {
     "cell_type": "code",
     "collapsed": false,
     "input": [
      "text3 = 'Today is 11/27/2012.  PyCon starts 3/13/2013.'\n",
      "datepat.findall(text3)"
     ],
     "language": "python",
     "metadata": {},
     "outputs": [
      {
       "metadata": {},
       "output_type": "pyout",
       "prompt_number": 8,
       "text": [
        "[('11', '27', '2012'), ('3', '13', '2013')]"
       ]
      }
     ],
     "prompt_number": 8
    },
    {
     "cell_type": "code",
     "collapsed": false,
     "input": [
      "# Regex Replace:\n",
      "re.sub( r'(\\d+)/(\\d+)/(\\d+)', r'\\3-\\1-\\2', text3 )"
     ],
     "language": "python",
     "metadata": {},
     "outputs": [
      {
       "metadata": {},
       "output_type": "pyout",
       "prompt_number": 9,
       "text": [
        "'Today is 2012-11-27.  PyCon starts 2013-3-13.'"
       ]
      }
     ],
     "prompt_number": 9
    },
    {
     "cell_type": "code",
     "collapsed": false,
     "input": [
      "# Text Case Sensitivity\n",
      "re.sub( 'pycon', 'PYCon', text3, flags=re.IGNORECASE )"
     ],
     "language": "python",
     "metadata": {},
     "outputs": [
      {
       "metadata": {},
       "output_type": "pyout",
       "prompt_number": 11,
       "text": [
        "'Today is 11/27/2012.  PYCon starts 3/13/2013.'"
       ]
      }
     ],
     "prompt_number": 11
    },
    {
     "cell_type": "code",
     "collapsed": false,
     "input": [
      "# Matches are greedy by default:\n",
      "text2 = 'Computer says \"no.\" Phone says \"yes.\"'\n",
      "str_pat = re.compile(r'\\\"(.*)\\\"')  # Greedy\n",
      "str_pat.findall(text2)"
     ],
     "language": "python",
     "metadata": {},
     "outputs": [
      {
       "metadata": {},
       "output_type": "pyout",
       "prompt_number": 12,
       "text": [
        "['no.\" Phone says \"yes.']"
       ]
      }
     ],
     "prompt_number": 12
    },
    {
     "cell_type": "code",
     "collapsed": false,
     "input": [
      "str_pat = re.compile(r'\\\"(.*?)\\\"')  # Non-Greedy (add ? after the *)\n",
      "str_pat.findall(text2)"
     ],
     "language": "python",
     "metadata": {},
     "outputs": [
      {
       "metadata": {},
       "output_type": "pyout",
       "prompt_number": 13,
       "text": [
        "['no.', 'yes.']"
       ]
      }
     ],
     "prompt_number": 13
    },
    {
     "cell_type": "code",
     "collapsed": false,
     "input": [],
     "language": "python",
     "metadata": {},
     "outputs": []
    }
   ],
   "metadata": {}
  }
 ]
}