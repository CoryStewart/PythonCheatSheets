{
 "metadata": {
  "name": ""
 },
 "nbformat": 3,
 "nbformat_minor": 0,
 "worksheets": [
  {
   "cells": [
    {
     "cell_type": "code",
     "collapsed": false,
     "input": [
      "# Python creates objects for the CLASS *and* for each INSTANCE of the\n",
      "# class.  And creates a search tree when resolving attributes\n",
      "# (member variables and methods).  Instance objects are found first,\n",
      "# followed by the the parent(s) class object."
     ],
     "language": "python",
     "metadata": {},
     "outputs": [],
     "prompt_number": 39
    },
    {
     "cell_type": "code",
     "collapsed": false,
     "input": [
      "# Class names should have the initial letter capitalized\n",
      "# Methods: are camelCased\n",
      "\n",
      "# Private vars have initial underscore (convention only - not truly private)"
     ],
     "language": "python",
     "metadata": {},
     "outputs": [],
     "prompt_number": 40
    },
    {
     "cell_type": "code",
     "collapsed": false,
     "input": [
      "class Worker:         # class stmt create the 'class object'\n",
      "#class Worker( Person ):  \n",
      "                      # form used if derived from a parent class (Person).\n",
      "                      # Can be derived from multiple (comma-sep) parents.\n",
      "    _num_workers = 0  # (static) class variable: shared among all \n",
      "                      # instances and initialized when the class \n",
      "                      # object is created.\n",
      "                      # This is \"private\" (initial underscore)\n",
      "# All methods automatically receive a 1st arg 'self' that the caller\n",
      "# doesn't explicitly provide but is automatically provided.  It is a \n",
      "# reference to the caller object.  Eg:  if the call looked like:\n",
      "#    bob.mymethod() \n",
      "# then mymethod gets a 1st arg 'self' that points to the 'bob' instance.\n",
      "    def __init__( self, name, pay ):  # constructor\n",
      "        self.name = name   # self assigns to the instance object\n",
      "        self.pay = pay\n",
      "        Worker._num_workers += 1  # No 'self.' so this is accessing the\n",
      "                           # class object var.\n",
      "    def getNumWorkers(self):\n",
      "        return self._num_workers;"
     ],
     "language": "python",
     "metadata": {},
     "outputs": [],
     "prompt_number": 41
    },
    {
     "cell_type": "code",
     "collapsed": false,
     "input": [
      "# Calling the 'class' object like a function creates an instance:\n",
      "bob = Worker( 'Bob Smith', 50000 )"
     ],
     "language": "python",
     "metadata": {},
     "outputs": [],
     "prompt_number": 42
    },
    {
     "cell_type": "code",
     "collapsed": false,
     "input": [
      "sue = Worker( \"Sue Harding\", 75000 )"
     ],
     "language": "python",
     "metadata": {},
     "outputs": [],
     "prompt_number": 43
    },
    {
     "cell_type": "code",
     "collapsed": false,
     "input": [
      "# Violating the convention that vars starting with '_' are private:\n",
      "Worker._num_workers  # works but bad form"
     ],
     "language": "python",
     "metadata": {},
     "outputs": [
      {
       "metadata": {},
       "output_type": "pyout",
       "prompt_number": 44,
       "text": [
        "2"
       ]
      }
     ],
     "prompt_number": 44
    },
    {
     "cell_type": "code",
     "collapsed": false,
     "input": [
      "bob._num_workers    # doesn't exist in the bob instance, so searches the \n",
      "                    # parent and find it."
     ],
     "language": "python",
     "metadata": {},
     "outputs": [
      {
       "metadata": {},
       "output_type": "pyout",
       "prompt_number": 45,
       "text": [
        "2"
       ]
      }
     ],
     "prompt_number": 45
    },
    {
     "cell_type": "code",
     "collapsed": false,
     "input": [
      "bob._num_workers = 100  # create a new instance var that hides the class var\n",
      "print '1)', bob._num_workers\n",
      "print '2)', Worker._num_workers\n",
      "print '3)', bob.getNumWorkers()\n",
      "#print '4)', Worker.getNumWorkers()   # Error. not sure why.?"
     ],
     "language": "python",
     "metadata": {},
     "outputs": [
      {
       "output_type": "stream",
       "stream": "stdout",
       "text": [
        "1) 100\n",
        "2) 2\n",
        "3) 100\n"
       ]
      }
     ],
     "prompt_number": 46
    },
    {
     "cell_type": "code",
     "collapsed": false,
     "input": [
      "sue.getNumWorkers()"
     ],
     "language": "python",
     "metadata": {},
     "outputs": [
      {
       "metadata": {},
       "output_type": "pyout",
       "prompt_number": 47,
       "text": [
        "2"
       ]
      }
     ],
     "prompt_number": 47
    },
    {
     "cell_type": "heading",
     "level": 2,
     "metadata": {},
     "source": [
      "Inheritance"
     ]
    },
    {
     "cell_type": "code",
     "collapsed": false,
     "input": [
      "class Super:\n",
      "    def __init__(self, x):\n",
      "        self.x = x\n",
      "        print 'Super init', x\n",
      "    def method(self):\n",
      "        pass\n",
      "\n",
      "class Sub( Super ) :\n",
      "    def __init__(self, x, y):\n",
      "        Super.__init__(self,x)   # Run superclass __init__ first\n",
      "        # Note: The call above to Super's init must put self as the 1st arg\n",
      "        # Normally call's don't -- the 'instance' (before the dot) specifies\n",
      "        # the self arg automatically.  But in this case, we're calling\n",
      "        # init with the CLASS OBJECT (before the dot) and that's when the \n",
      "        # self must be passed.\n",
      "        self.y = y\n",
      "        print 'Sub init', x, y\n",
      "    def method( self ):  # Extending the Super's \"method\" method\n",
      "        Super.method( self )\n",
      "        print \"Super's method overridden\"\n",
      "\n",
      "c = Sub( 4, 5 )\n",
      "c.method()"
     ],
     "language": "python",
     "metadata": {},
     "outputs": [
      {
       "output_type": "stream",
       "stream": "stdout",
       "text": [
        "Super init 4\n",
        "Sub init 4 5\n",
        "Super's method overridden\n"
       ]
      }
     ],
     "prompt_number": 3
    },
    {
     "cell_type": "markdown",
     "metadata": {},
     "source": [
      "Slightly weird but useful example:"
     ]
    },
    {
     "cell_type": "code",
     "collapsed": false,
     "input": [
      "class Super:\n",
      "    def method(self):\n",
      "        print('in Super.method') # Default behavior\n",
      "    def delegate(self):    # abstract class method: subclasses must define\n",
      "                           # and 'action' method\n",
      "        self.action() # Expected to be defined\n",
      "    def action(self):\n",
      "        raise NotImplementedError('abstract method \"action()\" must be defined in subclasses!')\n",
      "class Inheritor(Super): # Inherit method verbatim\n",
      "    pass\n",
      "class Replacer(Super): # Replace method completely\n",
      "    def method(self):\n",
      "        print('in Replacer.method')\n",
      "class Extender(Super): # Extend method behavior\n",
      "    def method(self):\n",
      "        print('starting Extender.method')\n",
      "        Super.method(self)\n",
      "        print('ending Extender.method')\n",
      "class Provider(Super): # Fill in a required method\n",
      "    def action(self):\n",
      "        print('in Provider.action')\n",
      "\n",
      "if __name__ == '__main__':\n",
      "    for klass in (Inheritor, Replacer, Extender):\n",
      "        print('\\n' + klass.__name__ + '...')\n",
      "        klass().method()\n",
      "    print('\\nProvider...')\n",
      "    x = Provider()\n",
      "    x.delegate()"
     ],
     "language": "python",
     "metadata": {},
     "outputs": [
      {
       "output_type": "stream",
       "stream": "stdout",
       "text": [
        "\n",
        "Inheritor...\n",
        "in Super.method\n",
        "\n",
        "Replacer...\n",
        "in Replacer.method\n",
        "\n",
        "Extender...\n",
        "starting Extender.method\n",
        "in Super.method\n",
        "ending Extender.method\n",
        "\n",
        "Provider...\n",
        "in Provider.action\n"
       ]
      }
     ],
     "prompt_number": 6
    },
    {
     "cell_type": "raw",
     "metadata": {},
     "source": [
      "Use __class__ (returns the class name of the instance)\n",
      "and __bases__ (returns a tuple of the parent class(es)\n",
      "to print a class tree:"
     ]
    },
    {
     "cell_type": "code",
     "collapsed": false,
     "input": [
      "\"\"\"\n",
      "classtree.py: Climb inheritance trees using namespace links,\n",
      "displaying higher superclasses with indentation for height\n",
      "\"\"\"\n",
      "def classtree(cls, indent):\n",
      "    print('.' * indent + cls.__name__) # Print class name here\n",
      "    for supercls in cls.__bases__: # Recurse to all superclasses\n",
      "        classtree(supercls, indent+3) # May visit super > once\n",
      "def instancetree(inst):\n",
      "    print('Tree of %s' % inst) # Show instance\n",
      "    classtree(inst.__class__, 3) # Climb to its class\n",
      "def selftest():\n",
      "    class A: pass\n",
      "    class B(A): pass\n",
      "    class C(A): pass\n",
      "    class D(B,C): pass\n",
      "    class E: pass\n",
      "    class F(D,E): pass\n",
      "    instancetree(B())\n",
      "    instancetree(F())\n",
      "    \n",
      "if __name__ == '__main__': selftest()"
     ],
     "language": "python",
     "metadata": {},
     "outputs": [
      {
       "output_type": "stream",
       "stream": "stdout",
       "text": [
        "Tree of <__main__.B instance at 0x104404290>\n",
        "...B\n",
        "......A\n",
        "Tree of <__main__.F instance at 0x104404290>\n",
        "...F\n",
        "......D\n",
        ".........B\n",
        "............A\n",
        ".........C\n",
        "............A\n",
        "......E\n"
       ]
      }
     ],
     "prompt_number": 7
    },
    {
     "cell_type": "markdown",
     "metadata": {},
     "source": [
      "<h1>\\_\\_repr\\_\\_</pre></h1>"
     ]
    },
    {
     "cell_type": "code",
     "collapsed": false,
     "input": [
      "class MyClass():\n",
      "    A = 5\n",
      "    B = 6\n",
      "    def __repr__(self): # Add string representation\n",
      "        return 'My_Class is: (%d, %d)' % (self.A, self.B) # Convert to as-code string\n",
      "\n",
      "c = MyClass()\n",
      "print( c )"
     ],
     "language": "python",
     "metadata": {},
     "outputs": [
      {
       "output_type": "stream",
       "stream": "stdout",
       "text": [
        "My_Class is: (5, 6)\n"
       ]
      }
     ],
     "prompt_number": 1
    },
    {
     "cell_type": "code",
     "collapsed": false,
     "input": [],
     "language": "python",
     "metadata": {},
     "outputs": []
    }
   ],
   "metadata": {}
  }
 ]
}