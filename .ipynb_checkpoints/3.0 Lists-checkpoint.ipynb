{
 "metadata": {
  "name": ""
 },
 "nbformat": 3,
 "nbformat_minor": 0,
 "worksheets": [
  {
   "cells": [
    {
     "cell_type": "code",
     "collapsed": false,
     "input": [
      "# Lists are ordered, mutable, collections of arbitrarily typed \n",
      "# objects with no fixed size. "
     ],
     "language": "python",
     "metadata": {},
     "outputs": [],
     "prompt_number": 149
    },
    {
     "cell_type": "code",
     "collapsed": false,
     "input": [
      "L = [123, 'spam', 1.23]\n",
      "len(L)"
     ],
     "language": "python",
     "metadata": {},
     "outputs": [
      {
       "metadata": {},
       "output_type": "pyout",
       "prompt_number": 150,
       "text": [
        "3"
       ]
      }
     ],
     "prompt_number": 150
    },
    {
     "cell_type": "code",
     "collapsed": false,
     "input": [
      "L[0]# index by position"
     ],
     "language": "python",
     "metadata": {},
     "outputs": [
      {
       "metadata": {},
       "output_type": "pyout",
       "prompt_number": 151,
       "text": [
        "123"
       ]
      }
     ],
     "prompt_number": 151
    },
    {
     "cell_type": "code",
     "collapsed": false,
     "input": [
      "L[:-1]  # slicing a list returns a new list"
     ],
     "language": "python",
     "metadata": {},
     "outputs": [
      {
       "metadata": {},
       "output_type": "pyout",
       "prompt_number": 152,
       "text": [
        "[123, 'spam']"
       ]
      }
     ],
     "prompt_number": 152
    },
    {
     "cell_type": "code",
     "collapsed": false,
     "input": [
      "L + [4, 5, 6] # concat lists (makes new list)"
     ],
     "language": "python",
     "metadata": {},
     "outputs": [
      {
       "metadata": {},
       "output_type": "pyout",
       "prompt_number": 153,
       "text": [
        "[123, 'spam', 1.23, 4, 5, 6]"
       ]
      }
     ],
     "prompt_number": 153
    },
    {
     "cell_type": "code",
     "collapsed": false,
     "input": [
      "'spam' in list( L )    # is 'spam' in the list?"
     ],
     "language": "python",
     "metadata": {},
     "outputs": [
      {
       "metadata": {},
       "output_type": "pyout",
       "prompt_number": 154,
       "text": [
        "True"
       ]
      }
     ],
     "prompt_number": 154
    },
    {
     "cell_type": "code",
     "collapsed": false,
     "input": [
      "L * 2 # repeat (makes new list)"
     ],
     "language": "python",
     "metadata": {},
     "outputs": [
      {
       "metadata": {},
       "output_type": "pyout",
       "prompt_number": 155,
       "text": [
        "[123, 'spam', 1.23, 123, 'spam', 1.23]"
       ]
      }
     ],
     "prompt_number": 155
    },
    {
     "cell_type": "code",
     "collapsed": false,
     "input": [
      "L.append( 'NI' )  # grow: add at end\n",
      "L"
     ],
     "language": "python",
     "metadata": {},
     "outputs": [
      {
       "metadata": {},
       "output_type": "pyout",
       "prompt_number": 156,
       "text": [
        "[123, 'spam', 1.23, 'NI']"
       ]
      }
     ],
     "prompt_number": 156
    },
    {
     "cell_type": "code",
     "collapsed": false,
     "input": [
      "L.pop(2)  # shrink: delete an item from the middle"
     ],
     "language": "python",
     "metadata": {},
     "outputs": [
      {
       "metadata": {},
       "output_type": "pyout",
       "prompt_number": 157,
       "text": [
        "1.23"
       ]
      }
     ],
     "prompt_number": 157
    },
    {
     "cell_type": "code",
     "collapsed": false,
     "input": [
      "L"
     ],
     "language": "python",
     "metadata": {},
     "outputs": [
      {
       "metadata": {},
       "output_type": "pyout",
       "prompt_number": 158,
       "text": [
        "[123, 'spam', 'NI']"
       ]
      }
     ],
     "prompt_number": 158
    },
    {
     "cell_type": "code",
     "collapsed": false,
     "input": [
      "del L[1]  # deletes from a list too\n",
      "# del L[2:]  # it's possible to delete slices too"
     ],
     "language": "python",
     "metadata": {},
     "outputs": [],
     "prompt_number": 159
    },
    {
     "cell_type": "code",
     "collapsed": false,
     "input": [
      "L"
     ],
     "language": "python",
     "metadata": {},
     "outputs": [
      {
       "metadata": {},
       "output_type": "pyout",
       "prompt_number": 160,
       "text": [
        "[123, 'NI']"
       ]
      }
     ],
     "prompt_number": 160
    },
    {
     "cell_type": "code",
     "collapsed": false,
     "input": [
      "L = range( -4, 4)\n",
      "L.append( 1.1 )\n",
      "L"
     ],
     "language": "python",
     "metadata": {},
     "outputs": [
      {
       "metadata": {},
       "output_type": "pyout",
       "prompt_number": 161,
       "text": [
        "[-4, -3, -2, -1, 0, 1, 2, 3, 1.1]"
       ]
      }
     ],
     "prompt_number": 161
    },
    {
     "cell_type": "code",
     "collapsed": false,
     "input": [
      "L.sort()\n",
      "L"
     ],
     "language": "python",
     "metadata": {},
     "outputs": [
      {
       "metadata": {},
       "output_type": "pyout",
       "prompt_number": 162,
       "text": [
        "[-4, -3, -2, -1, 0, 1, 1.1, 2, 3]"
       ]
      }
     ],
     "prompt_number": 162
    },
    {
     "cell_type": "code",
     "collapsed": false,
     "input": [
      "L.reverse()\n",
      "L"
     ],
     "language": "python",
     "metadata": {},
     "outputs": [
      {
       "metadata": {},
       "output_type": "pyout",
       "prompt_number": 163,
       "text": [
        "[3, 2, 1.1, 1, 0, -1, -2, -3, -4]"
       ]
      }
     ],
     "prompt_number": 163
    },
    {
     "cell_type": "code",
     "collapsed": false,
     "input": [
      "L.clear()\n",
      "L"
     ],
     "language": "python",
     "metadata": {},
     "outputs": [
      {
       "ename": "AttributeError",
       "evalue": "'list' object has no attribute 'clear'",
       "output_type": "pyerr",
       "traceback": [
        "\u001b[1;31m---------------------------------------------------------------------------\u001b[0m\n\u001b[1;31mAttributeError\u001b[0m                            Traceback (most recent call last)",
        "\u001b[1;32m<ipython-input-164-23b3b66130ad>\u001b[0m in \u001b[0;36m<module>\u001b[1;34m()\u001b[0m\n\u001b[1;32m----> 1\u001b[1;33m \u001b[0mL\u001b[0m\u001b[1;33m.\u001b[0m\u001b[0mclear\u001b[0m\u001b[1;33m(\u001b[0m\u001b[1;33m)\u001b[0m\u001b[1;33m\u001b[0m\u001b[0m\n\u001b[0m\u001b[0;32m      2\u001b[0m \u001b[0mL\u001b[0m\u001b[1;33m\u001b[0m\u001b[0m\n",
        "\u001b[1;31mAttributeError\u001b[0m: 'list' object has no attribute 'clear'"
       ]
      }
     ],
     "prompt_number": 164
    },
    {
     "cell_type": "code",
     "collapsed": false,
     "input": [
      "M = ['todd', 'kent', 'cory']\n",
      "M.sort()\n",
      "M"
     ],
     "language": "python",
     "metadata": {},
     "outputs": [
      {
       "metadata": {},
       "output_type": "pyout",
       "prompt_number": 165,
       "text": [
        "['cory', 'kent', 'todd']"
       ]
      }
     ],
     "prompt_number": 165
    },
    {
     "cell_type": "code",
     "collapsed": false,
     "input": [
      "M.reverse()\n",
      "M"
     ],
     "language": "python",
     "metadata": {},
     "outputs": [
      {
       "metadata": {},
       "output_type": "pyout",
       "prompt_number": 166,
       "text": [
        "['todd', 'kent', 'cory']"
       ]
      }
     ],
     "prompt_number": 166
    },
    {
     "cell_type": "code",
     "collapsed": false,
     "input": [
      "# Bounds Checking:\n",
      "# L[99]    # ERROR !\n",
      "# L[99] = 1  # ERROR !\n",
      "# To grow a list call list methods like append instead."
     ],
     "language": "python",
     "metadata": {},
     "outputs": [],
     "prompt_number": 167
    },
    {
     "cell_type": "code",
     "collapsed": false,
     "input": [
      "# Nesting\n",
      "M = [[1, 2, 3],\n",
      "     [4, 5, 6],\n",
      "     [7, 8, 9]]"
     ],
     "language": "python",
     "metadata": {},
     "outputs": [],
     "prompt_number": 168
    },
    {
     "cell_type": "code",
     "collapsed": false,
     "input": [
      "M"
     ],
     "language": "python",
     "metadata": {},
     "outputs": [
      {
       "metadata": {},
       "output_type": "pyout",
       "prompt_number": 169,
       "text": [
        "[[1, 2, 3], [4, 5, 6], [7, 8, 9]]"
       ]
      }
     ],
     "prompt_number": 169
    },
    {
     "cell_type": "code",
     "collapsed": false,
     "input": [
      "# Nested Lists accesses\n",
      "M[1][2]"
     ],
     "language": "python",
     "metadata": {},
     "outputs": [
      {
       "metadata": {},
       "output_type": "pyout",
       "prompt_number": 170,
       "text": [
        "6"
       ]
      }
     ],
     "prompt_number": 170
    },
    {
     "cell_type": "code",
     "collapsed": false,
     "input": [
      "range( 10 )"
     ],
     "language": "python",
     "metadata": {},
     "outputs": [
      {
       "metadata": {},
       "output_type": "pyout",
       "prompt_number": 171,
       "text": [
        "[0, 1, 2, 3, 4, 5, 6, 7, 8, 9]"
       ]
      }
     ],
     "prompt_number": 171
    },
    {
     "cell_type": "code",
     "collapsed": false,
     "input": [
      "range( 5, 10 )"
     ],
     "language": "python",
     "metadata": {},
     "outputs": [
      {
       "metadata": {},
       "output_type": "pyout",
       "prompt_number": 172,
       "text": [
        "[5, 6, 7, 8, 9]"
       ]
      }
     ],
     "prompt_number": 172
    },
    {
     "cell_type": "code",
     "collapsed": false,
     "input": [
      "range( 5, 20, 2 )"
     ],
     "language": "python",
     "metadata": {},
     "outputs": [
      {
       "metadata": {},
       "output_type": "pyout",
       "prompt_number": 173,
       "text": [
        "[5, 7, 9, 11, 13, 15, 17, 19]"
       ]
      }
     ],
     "prompt_number": 173
    },
    {
     "cell_type": "code",
     "collapsed": false,
     "input": [
      "import matplotlib.pyplot as plt\n",
      "plt.plot(range(10))"
     ],
     "language": "python",
     "metadata": {},
     "outputs": [
      {
       "metadata": {},
       "output_type": "pyout",
       "prompt_number": 174,
       "text": [
        "[<matplotlib.lines.Line2D at 0x8ab29b0>]"
       ]
      }
     ],
     "prompt_number": 174
    },
    {
     "cell_type": "code",
     "collapsed": false,
     "input": [
      "L = range(-4,4)\n",
      "L"
     ],
     "language": "python",
     "metadata": {},
     "outputs": [
      {
       "metadata": {},
       "output_type": "pyout",
       "prompt_number": 175,
       "text": [
        "[-4, -3, -2, -1, 0, 1, 2, 3]"
       ]
      }
     ],
     "prompt_number": 175
    },
    {
     "cell_type": "code",
     "collapsed": false,
     "input": [
      "len( L )"
     ],
     "language": "python",
     "metadata": {},
     "outputs": [
      {
       "metadata": {},
       "output_type": "pyout",
       "prompt_number": 176,
       "text": [
        "8"
       ]
      }
     ],
     "prompt_number": 176
    },
    {
     "cell_type": "code",
     "collapsed": false,
     "input": [
      "for x in L: print(x)"
     ],
     "language": "python",
     "metadata": {},
     "outputs": [
      {
       "output_type": "stream",
       "stream": "stdout",
       "text": [
        "-4\n",
        "-3\n",
        "-2\n",
        "-1\n",
        "0\n",
        "1\n",
        "2\n",
        "3\n"
       ]
      }
     ],
     "prompt_number": 177
    },
    {
     "cell_type": "heading",
     "level": 2,
     "metadata": {},
     "source": [
      "List Comprehensions"
     ]
    },
    {
     "cell_type": "code",
     "collapsed": false,
     "input": [
      "# List comprehensions:\n",
      "L = [2**x for x in range(9)]\n",
      "L"
     ],
     "language": "python",
     "metadata": {},
     "outputs": [
      {
       "metadata": {},
       "output_type": "pyout",
       "prompt_number": 178,
       "text": [
        "[1, 2, 4, 8, 16, 32, 64, 128, 256]"
       ]
      }
     ],
     "prompt_number": 178
    },
    {
     "cell_type": "code",
     "collapsed": false,
     "input": [
      "L = [2**x for x in range(-5,5) if x > 0]\n",
      "L"
     ],
     "language": "python",
     "metadata": {},
     "outputs": [
      {
       "metadata": {},
       "output_type": "pyout",
       "prompt_number": 6,
       "text": [
        "[2, 4, 8, 16]"
       ]
      }
     ],
     "prompt_number": 6
    },
    {
     "cell_type": "heading",
     "level": 2,
     "metadata": {},
     "source": [
      "Enumerate"
     ]
    },
    {
     "cell_type": "code",
     "collapsed": false,
     "input": [
      "s = ['a', 'b', 'c', 'd', 'e']\n",
      "for (i, val) in enumerate(s):\n",
      "    print i, val"
     ],
     "language": "python",
     "metadata": {},
     "outputs": [
      {
       "output_type": "stream",
       "stream": "stdout",
       "text": [
        "0 a\n",
        "1 b\n",
        "2 c\n",
        "3 d\n",
        "4 e\n"
       ]
      }
     ],
     "prompt_number": 4
    },
    {
     "cell_type": "heading",
     "level": 1,
     "metadata": {},
     "source": [
      "Changing Lists in Place"
     ]
    },
    {
     "cell_type": "code",
     "collapsed": false,
     "input": [
      "L = ['cory', 'stewart']\n",
      "print L\n",
      "L.insert( 1, 'dean' )\n",
      "print L\n",
      "# Element Replace:\n",
      "L[0:2] = ['kent', 'brian']\n",
      "L"
     ],
     "language": "python",
     "metadata": {},
     "outputs": [
      {
       "output_type": "stream",
       "stream": "stdout",
       "text": [
        "['cory', 'stewart']\n",
        "['cory', 'dean', 'stewart']\n"
       ]
      },
      {
       "metadata": {},
       "output_type": "pyout",
       "prompt_number": 224,
       "text": [
        "['kent', 'brian', 'stewart']"
       ]
      }
     ],
     "prompt_number": 224
    },
    {
     "cell_type": "code",
     "collapsed": false,
     "input": [
      "# Insertion\n",
      "# L[start_index:end_index] :\n",
      "#   start_index = 2 (inclusive) ==> 2 (inclusive)\n",
      "#   end_index   = 2 (exclusive) ==> (2-1)=1 (inclusive)\n",
      "# end_index(inclusive) is less than start_index(inclusive) so there \n",
      "# is no 'replacement', only 'insertion'\n",
      "L[2:2] = ['(dork)']\n",
      "L"
     ],
     "language": "python",
     "metadata": {},
     "outputs": [
      {
       "metadata": {},
       "output_type": "pyout",
       "prompt_number": 180,
       "text": [
        "['kent', 'brian', '(dork)', 'stewart']"
       ]
      }
     ],
     "prompt_number": 180
    },
    {
     "cell_type": "code",
     "collapsed": false,
     "input": [
      "# Deletion (insert nothing)\n",
      "L[2:3] = []\n",
      "L"
     ],
     "language": "python",
     "metadata": {},
     "outputs": [
      {
       "metadata": {},
       "output_type": "pyout",
       "prompt_number": 181,
       "text": [
        "['kent', 'brian', 'stewart']"
       ]
      }
     ],
     "prompt_number": 181
    },
    {
     "cell_type": "code",
     "collapsed": false,
     "input": [
      "# Delete by value:\n",
      "L.remove( 'brian' )\n",
      "L"
     ],
     "language": "python",
     "metadata": {},
     "outputs": [
      {
       "metadata": {},
       "output_type": "pyout",
       "prompt_number": 225,
       "text": [
        "['kent', 'stewart']"
       ]
      }
     ],
     "prompt_number": 225
    },
    {
     "cell_type": "code",
     "collapsed": false,
     "input": [
      "# Delete by position (and return deleted value):\n",
      "L = ['cory', 'dean', 'stewart']\n",
      "res = L.pop( 2 )\n",
      "print( res, L )"
     ],
     "language": "python",
     "metadata": {},
     "outputs": [
      {
       "output_type": "stream",
       "stream": "stdout",
       "text": [
        "('stewart', ['cory', 'dean'])\n"
       ]
      }
     ],
     "prompt_number": 226
    },
    {
     "cell_type": "code",
     "collapsed": false,
     "input": [
      "# Insertion at beginning (perl unshift)\n",
      "L = [4]\n",
      "L[:0] = [0,1,2,3]\n",
      "L\n",
      "# Insertion at end (perl push)\n",
      "L.append([5,6])  # No. Appends a nested list of '[5,6]' as a single element\n",
      "L.extend([5,6])  # Yes\n",
      "L[len(L):0] = [7,8] # Works too\n",
      "# L.extend(9)    # will give an error, EXTEND expects a list\n",
      "L.append(9)      # works. APPEND expects a single object reference\n",
      "L\n",
      "# Pop\n",
      "print \"Before pop: %s\" % L\n",
      "print \"pop: %s\" % ( L.pop() )\n",
      "print \"After pop: %s\" % L\n",
      "\n",
      "# Perl Shift  (one way but not the best):\n",
      "print \"\\nBefore shift: %s\" % L\n",
      "print \"shift: %s\" % ( L[0] )\n",
      "L[0:1] = []\n",
      "print \"After shift: %s\" % L\n",
      "\n",
      "# Perl Shift  (best way):\n",
      "print \"\\nBefore shift: %s\" % L\n",
      "# res = L.pop( 0 )  # arg to pop is the position to delete & return\n",
      "print \"shift: %s\" % ( L.pop(0) )\n",
      "print \"After shift: %s\" % L\n"
     ],
     "language": "python",
     "metadata": {},
     "outputs": [
      {
       "output_type": "stream",
       "stream": "stdout",
       "text": [
        "Before pop: [0, 1, 2, 3, 4, [5, 6], 5, 6, 7, 8, 9]\n",
        "pop: 9\n",
        "After pop: [0, 1, 2, 3, 4, [5, 6], 5, 6, 7, 8]\n",
        "\n",
        "Before shift: [0, 1, 2, 3, 4, [5, 6], 5, 6, 7, 8]\n",
        "shift: 0\n",
        "After shift: [1, 2, 3, 4, [5, 6], 5, 6, 7, 8]\n",
        "\n",
        "Before shift: [1, 2, 3, 4, [5, 6], 5, 6, 7, 8]\n",
        "shift: 1\n",
        "After shift: [2, 3, 4, [5, 6], 5, 6, 7, 8]\n"
       ]
      }
     ],
     "prompt_number": 233
    },
    {
     "cell_type": "code",
     "collapsed": false,
     "input": [
      "# Difference between L.append(), L.extend(), & L+[X] :\n",
      "# ------------\n",
      "# L.append()  : adds a SINGLE object reference (not a list of obj refs)\n",
      "# L.extend()  : adds a LIST of object references\n",
      "### Extend adds \"many items\", Append adds \"one item\" ###\n",
      "# L + [x,y,z] : creates a NEW list (is not an in-place change)"
     ],
     "language": "python",
     "metadata": {},
     "outputs": [],
     "prompt_number": 187
    },
    {
     "cell_type": "heading",
     "level": 1,
     "metadata": {},
     "source": [
      "Sorting Lists:"
     ]
    },
    {
     "cell_type": "code",
     "collapsed": false,
     "input": [
      "L_orig = ['bbb', 'aaa', 'AAA', 'ccc', 'Abc', 'BBB' ]\n",
      "L = L_orig[:] # make a copy\n",
      "L.append( 999999999 )\n",
      "# Python 2.x: integers are always less than strings\n",
      "# Python 3.x: mixed type magnitude comparisons raise exceptions\n",
      "L.sort() # ascii table order\n",
      "L"
     ],
     "language": "python",
     "metadata": {},
     "outputs": [
      {
       "metadata": {},
       "output_type": "pyout",
       "prompt_number": 209,
       "text": [
        "[999999999, 'AAA', 'Abc', 'BBB', 'aaa', 'bbb', 'ccc']"
       ]
      }
     ],
     "prompt_number": 209
    },
    {
     "cell_type": "code",
     "collapsed": false,
     "input": [
      "L = L_orig[:] # make a copy\n",
      "# key={function] : \n",
      "#     Perform transform before sorting but keep the orig values for the result list\n",
      "#     This allows you to specify your own sort function.\n",
      "L.sort(key=str.lower)\n",
      "print L\n",
      "\n",
      "c = 'Cory'\n",
      "res1 = c.lower()       # works\n",
      "res2 = str.lower( c )  # works, accessing the str builtin object type\n",
      "print res1, res2\n",
      "str??"
     ],
     "language": "python",
     "metadata": {},
     "outputs": [
      {
       "output_type": "stream",
       "stream": "stdout",
       "text": [
        "['aaa', 'AAA', 'Abc', 'bbb', 'BBB', 'ccc']\n",
        "cory cory\n"
       ]
      }
     ],
     "prompt_number": 218
    },
    {
     "cell_type": "code",
     "collapsed": false,
     "input": [
      "L = L_orig[:] # make a copy\n",
      "L.sort(key=str.lower, reverse=True) # change sore order\n",
      "L"
     ],
     "language": "python",
     "metadata": {},
     "outputs": [
      {
       "metadata": {},
       "output_type": "pyout",
       "prompt_number": 203,
       "text": [
        "['ccc', 'bbb', 'BBB', 'Abc', 'aaa', 'AAA']"
       ]
      }
     ],
     "prompt_number": 203
    },
    {
     "cell_type": "heading",
     "level": 3,
     "metadata": {},
     "source": [
      "Zip"
     ]
    },
    {
     "cell_type": "code",
     "collapsed": false,
     "input": [
      "# Zip takes one or more lists and returns a list of tuples that pair up the items from the lists\n",
      "A = [ 1,  2,  3,  4]\n",
      "B = [10, 20, 30, 40]\n",
      "zip( A, B )                 # note, 3.X needs this surrounded by list()"
     ],
     "language": "python",
     "metadata": {},
     "outputs": [
      {
       "metadata": {},
       "output_type": "pyout",
       "prompt_number": 1,
       "text": [
        "[(1, 10), (2, 20), (3, 30), (4, 40)]"
       ]
      }
     ],
     "prompt_number": 1
    },
    {
     "cell_type": "code",
     "collapsed": false,
     "input": [],
     "language": "python",
     "metadata": {},
     "outputs": []
    }
   ],
   "metadata": {}
  }
 ]
}