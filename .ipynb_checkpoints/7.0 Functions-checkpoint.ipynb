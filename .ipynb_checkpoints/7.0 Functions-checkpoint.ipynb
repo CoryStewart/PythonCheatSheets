{
 "metadata": {
  "name": ""
 },
 "nbformat": 3,
 "nbformat_minor": 0,
 "worksheets": [
  {
   "cells": [
    {
     "cell_type": "heading",
     "level": 3,
     "metadata": {},
     "source": [
      "Basics & Docstrings:"
     ]
    },
    {
     "cell_type": "code",
     "collapsed": false,
     "input": [
      "def myfunc():\n",
      "    \"This is the docstring : document your function\"\n",
      "    \"\"\"\n",
      "    could also be multiline like this\n",
      "    \"\"\"\n",
      "    return 1    # returns an OBJECT... could be list, dict, tuple, etc...\n",
      "                # default (or no return stmt: returns None)"
     ],
     "language": "python",
     "metadata": {},
     "outputs": [],
     "prompt_number": 5
    },
    {
     "cell_type": "code",
     "collapsed": false,
     "input": [
      "# 'def' is executable code : it creates a function object at runtime and returns a reference to it,\n",
      "# wherever the def stmt is executed."
     ],
     "language": "python",
     "metadata": {},
     "outputs": []
    },
    {
     "cell_type": "code",
     "collapsed": false,
     "input": [
      "help( myfunc )"
     ],
     "language": "python",
     "metadata": {},
     "outputs": [
      {
       "output_type": "stream",
       "stream": "stdout",
       "text": [
        "Help on function myfunc in module __main__:\n",
        "\n",
        "myfunc()\n",
        "    This is the docstring : document your function\n",
        "\n"
       ]
      }
     ],
     "prompt_number": 8
    },
    {
     "cell_type": "code",
     "collapsed": false,
     "input": [
      "print myfunc.__doc__"
     ],
     "language": "python",
     "metadata": {},
     "outputs": [
      {
       "output_type": "stream",
       "stream": "stdout",
       "text": [
        "This is the docstring : document your function\n"
       ]
      }
     ],
     "prompt_number": 9
    },
    {
     "cell_type": "code",
     "collapsed": false,
     "input": [
      "myfunc()    # it would be an error if I passed args"
     ],
     "language": "python",
     "metadata": {},
     "outputs": [
      {
       "metadata": {},
       "output_type": "pyout",
       "prompt_number": 15,
       "text": [
        "1"
       ]
      }
     ],
     "prompt_number": 15
    },
    {
     "cell_type": "code",
     "collapsed": false,
     "input": [
      "def myfunc2( a, b ):\n",
      "    return a * b\n",
      "print myfunc2( 2, 3 )\n",
      "print myfunc2( 2.1, 3 )\n",
      "print myfunc2( 'Cory', 3 )"
     ],
     "language": "python",
     "metadata": {},
     "outputs": [
      {
       "output_type": "stream",
       "stream": "stdout",
       "text": [
        "6\n",
        "6.3\n",
        "CoryCoryCory\n"
       ]
      }
     ],
     "prompt_number": 18
    },
    {
     "cell_type": "code",
     "collapsed": false,
     "input": [
      "# return multiple values:\n",
      "def myfunc3( a ):\n",
      "    return a+1, a+2\n",
      "c, d = myfunc3( 10 )\n",
      "print c\n",
      "print d"
     ],
     "language": "python",
     "metadata": {},
     "outputs": [
      {
       "output_type": "stream",
       "stream": "stdout",
       "text": [
        "11\n",
        "12\n"
       ]
      }
     ],
     "prompt_number": 7
    },
    {
     "cell_type": "heading",
     "level": 3,
     "metadata": {},
     "source": [
      "Scope"
     ]
    },
    {
     "cell_type": "markdown",
     "metadata": {},
     "source": [
      "There are only three scopes in Python:\n",
      "1) If a variable is assigned outside all defs (function defs), it is *global* to the entire file\n",
      "2) If a variable is assigned inside a def, it is *local* to that function\n",
      "3) If a variable is assigned in an enclosing def, it is *nonlocal* to any nested functions\n",
      "- Each module (file) has its own global scope.  These are aka *attributes* & become accessible elsewhere by import.\n",
      "- All vars inside a function are local unless declared 'global' or 'nonlocal' (3.X only).\n",
      "- Each call to a function creates a new local scope.\n",
      "- LEGB rule: References search, in order: (L)ocal, (E)nclosing, (G)lobal, (B)uiltin scopes.  1st found wins.\n",
      "- A Class block has its own (L)ocal scope."
     ]
    },
    {
     "cell_type": "code",
     "collapsed": false,
     "input": [
      "x = 'global_var'\n",
      "def changer():\n",
      "    global x        # global => x inside the function references the x outside the function\n",
      "    x = 'new'\n",
      "\n",
      "changer()\n",
      "x"
     ],
     "language": "python",
     "metadata": {},
     "outputs": [
      {
       "metadata": {},
       "output_type": "pyout",
       "prompt_number": 13,
       "text": [
        "'new'"
       ]
      }
     ],
     "prompt_number": 13
    },
    {
     "cell_type": "code",
     "collapsed": false,
     "input": [
      "x = 'global_var'\n",
      "def changer():\n",
      "    #global x       # without 'global' stmt, the x var inside the function is local\n",
      "    x = 'new'\n",
      "\n",
      "changer()\n",
      "x"
     ],
     "language": "python",
     "metadata": {},
     "outputs": [
      {
       "metadata": {},
       "output_type": "pyout",
       "prompt_number": 14,
       "text": [
        "'global_var'"
       ]
      }
     ],
     "prompt_number": 14
    },
    {
     "cell_type": "heading",
     "level": 3,
     "metadata": {},
     "source": [
      "Lambdas"
     ]
    },
    {
     "cell_type": "code",
     "collapsed": false,
     "input": [
      "# Lambdas are 'inline' functions (like macros).  The can be anonymous (no name) or can be \n",
      "# given a name.\n",
      "funcs = [lambda x: x**2, lambda x: x**3]\n",
      "print funcs[0](5)   # use the square lambda func\n",
      "print funcs[1](5)   # use the cube lambda func\n",
      "print '# ----------'\n",
      "my_named_lambda = lambda x,y : x + y\n",
      "my_named_lambda( 100, 1000 )"
     ],
     "language": "python",
     "metadata": {},
     "outputs": [
      {
       "output_type": "stream",
       "stream": "stdout",
       "text": [
        "25\n",
        "125\n",
        "# ----------\n"
       ]
      },
      {
       "metadata": {},
       "output_type": "pyout",
       "prompt_number": 31,
       "text": [
        "1100"
       ]
      }
     ],
     "prompt_number": 31
    },
    {
     "cell_type": "code",
     "collapsed": false,
     "input": [
      "# defaults & named args work on lambdas too:\n",
      "x = (lambda a=\"fee\", b=\"fie\", c=\"foe\": a + b + c)\n",
      "x( \"wee\", c='faa' )"
     ],
     "language": "python",
     "metadata": {},
     "outputs": [
      {
       "metadata": {},
       "output_type": "pyout",
       "prompt_number": 37,
       "text": [
        "'weefiefaa'"
       ]
      }
     ],
     "prompt_number": 37
    },
    {
     "cell_type": "heading",
     "level": 3,
     "metadata": {},
     "source": [
      "Yield"
     ]
    },
    {
     "cell_type": "code",
     "collapsed": false,
     "input": [
      "# Generator Functions (ie: functions with yield stmts):\n",
      "# 'yield' is like 'return' but returns an iterator object used to generate iterable sequences.\n",
      "# NOTE: the function actually suspends after executing yield.  It then resumes each time func.next()\n",
      "# is called.  Each time it resumes, it calculates the next result and returns it with the 'yield'\n",
      "# stmt.  Functions with a 'yield' statement are compiled specially with all 'iterable' interfaces.\n",
      "# They may have a 'return' statement, which terminates generation of new values.\n",
      "# **** Basically:  used to return results over time and on demand **** \n",
      "# Why?  The can be efficient for routines that take a long time or alot of mem to generate values.\n",
      "# They also automatically save state between calls.\n",
      "def squares( x ):\n",
      "    for i in range(x): yield i ** 2\n",
      "g = squares( 5 )\n",
      "print g.next()\n",
      "print g.next()\n",
      "print g.next()\n",
      "print g.next()\n",
      "print g.next()\n",
      "#print g.next()   # this would cause an error"
     ],
     "language": "python",
     "metadata": {},
     "outputs": [
      {
       "output_type": "stream",
       "stream": "stdout",
       "text": [
        "0\n",
        "1\n",
        "4\n",
        "9\n",
        "16\n"
       ]
      }
     ],
     "prompt_number": 25
    },
    {
     "cell_type": "heading",
     "level": 3,
     "metadata": {},
     "source": [
      "Factory Functions: Closures"
     ]
    },
    {
     "cell_type": "code",
     "collapsed": false,
     "input": [
      "def f2_factory():\n",
      "    X = 88\n",
      "    def f2():\n",
      "        print( X )    # prints the X of the enclosing scope\n",
      "    return f2         # f2_factory returns a reference to the func f2 that it def'd\n",
      "\n",
      "f2_ref = f2_factory() # Make the function and return it\n",
      "f2_ref()              # Call the generated function"
     ],
     "language": "python",
     "metadata": {},
     "outputs": [
      {
       "output_type": "stream",
       "stream": "stdout",
       "text": [
        "88\n"
       ]
      }
     ],
     "prompt_number": 1
    },
    {
     "cell_type": "markdown",
     "metadata": {},
     "source": [
      "f2_ref remembers variables in its enclosing scopes (like X) regardless of whether those are still present in memory.  In this way, it retains 'state'."
     ]
    },
    {
     "cell_type": "code",
     "collapsed": false,
     "input": [
      "# Another more interesting example:\n",
      "def power_of_N_factory( N ):\n",
      "    def pow_n( a ):\n",
      "        return a ** N\n",
      "    return pow_n\n",
      "\n",
      "power_of_3 = power_of_N_factory( 3 )\n",
      "print power_of_3( 2 )  # 2 ** 3 = 8\n",
      "print power_of_3( 3 )  # 3 ** 3 = 27\n",
      "print power_of_3( 4 )  # 4 ** 3 = 64\n",
      "power_of_5 = power_of_N_factory( 5 )\n",
      "print power_of_5( 2 )  # 2 ** 5 = 32"
     ],
     "language": "python",
     "metadata": {},
     "outputs": [
      {
       "output_type": "stream",
       "stream": "stdout",
       "text": [
        "8\n",
        "27\n",
        "64\n",
        "32\n"
       ]
      }
     ],
     "prompt_number": 4
    },
    {
     "cell_type": "heading",
     "level": 1,
     "metadata": {},
     "source": [
      "Function Arguments"
     ]
    },
    {
     "cell_type": "markdown",
     "metadata": {},
     "source": [
      "* Args are passed as references\n",
      "* Mutable args changed inside the function will affect the caller"
     ]
    },
    {
     "cell_type": "code",
     "collapsed": false,
     "input": [
      "def func4( a, b ):\n",
      "    print a, b\n",
      "    return ''\n",
      "    \n",
      "# Positional arg matching:  (examples above)\n",
      "print 'positional:', func4( 2, 4 )\n",
      "\n",
      "# Named arg matching:\n",
      "print 'named:', func4( a=25, b=50 )\n",
      "\n",
      "# Mixing positional & named:  Allowed until the 1st named.  \n",
      "# After the 1st named, all other must be named.\n",
      "print 'mixed:', func4(1,b=2)\n",
      "# func4(a=-1,2)  # error"
     ],
     "language": "python",
     "metadata": {},
     "outputs": [
      {
       "output_type": "stream",
       "stream": "stdout",
       "text": [
        "positional: 2 4\n",
        "\n",
        "named: 25 50\n",
        "\n",
        "mixed: 1 2\n",
        "\n"
       ]
      }
     ],
     "prompt_number": 17
    },
    {
     "cell_type": "code",
     "collapsed": false,
     "input": [
      "# Arg Default Values:  (not all args are required to have defaults)\n",
      "def func5( a=1, b=2 ):\n",
      "    print a, b\n",
      "    return ''\n",
      "print '1) No args:', func5()\n",
      "print '2) 1st arg only:', func5( 500 )\n",
      "print '3) Both args:', func5( 3, 7 )"
     ],
     "language": "python",
     "metadata": {},
     "outputs": [
      {
       "output_type": "stream",
       "stream": "stdout",
       "text": [
        " 1) No args: 1 2\n",
        "\n",
        "2) 1st arg only: 500 2\n",
        "\n",
        "3) Both args: 3 7\n",
        "\n"
       ]
      }
     ],
     "prompt_number": 13
    },
    {
     "cell_type": "code",
     "collapsed": false,
     "input": [
      "# Varargs *: Variable number of args\n",
      "# Passed in as a tuple.\n",
      "def func6( *a ):\n",
      "    print( a )\n",
      "\n",
      "print '1)', func6()\n",
      "print '2)', func6( 1, 2, 3 )\n",
      "print '3)', func6( 1, 'foo', 'bar', 3.14 )\n"
     ],
     "language": "python",
     "metadata": {},
     "outputs": [
      {
       "output_type": "stream",
       "stream": "stdout",
       "text": [
        "1) ()\n",
        "None\n",
        "2) (1, 2, 3)\n",
        "None\n",
        "3) (1, 'foo', 'bar', 3.14)\n",
        "None\n"
       ]
      }
     ],
     "prompt_number": 18
    },
    {
     "cell_type": "code",
     "collapsed": false,
     "input": [
      "# Varargs **: Variable number of args.  Requires use of NAMED args in the function call.\n",
      "# NAMED args are passed in as a dict.\n",
      "def func6( **a ):\n",
      "    print( a )\n",
      "    return ''\n",
      "\n",
      "print '1)', func6()\n",
      "print '2)', func6( infile='blah.txt', outfile='out.txt' )\n",
      "print '3)', func6( a=1, b='foo', c='bar', d=3.14 )\n",
      "#print '4)', func6( 1, 2, 3 )    # ERROR must be named args"
     ],
     "language": "python",
     "metadata": {},
     "outputs": [
      {
       "output_type": "stream",
       "stream": "stdout",
       "text": [
        " 1) {}\n",
        "\n",
        "2) {'outfile': 'out.txt', 'infile': 'blah.txt'}\n",
        "\n",
        "3) {'a': 1, 'c': 'bar', 'b': 'foo', 'd': 3.14}\n",
        "\n"
       ]
      }
     ],
     "prompt_number": 22
    },
    {
     "cell_type": "code",
     "collapsed": false,
     "input": [
      "# Passing a Tuple as the list of args in a function call:\n",
      "def func7( a, b, c ):  # note: positional\n",
      "    print a, b, c\n",
      "\n",
      "T = (1, 2, 3)\n",
      "func7( *T )      # *T means pass in the tuple as the positional args"
     ],
     "language": "python",
     "metadata": {},
     "outputs": [
      {
       "output_type": "stream",
       "stream": "stdout",
       "text": [
        "1 2 3\n"
       ]
      }
     ],
     "prompt_number": 23
    },
    {
     "cell_type": "code",
     "collapsed": false,
     "input": [
      "# Passing a Dict as the named args in a function call:\n",
      "def func8( my_a, my_b, my_c ):\n",
      "    print my_a, my_b, my_c\n",
      "\n",
      "D = {'my_a': 1, 'my_b': 2, 'my_c': 3}\n",
      "func8( **D )    # note ** for named args (dict)"
     ],
     "language": "python",
     "metadata": {},
     "outputs": [
      {
       "output_type": "stream",
       "stream": "stdout",
       "text": [
        "1 2 3\n"
       ]
      }
     ],
     "prompt_number": 25
    },
    {
     "cell_type": "code",
     "collapsed": false,
     "input": [
      "# Mixed positional and named CALLS:\n",
      "func8( *(100, 200), **{'my_c': 5000} )"
     ],
     "language": "python",
     "metadata": {},
     "outputs": [
      {
       "output_type": "stream",
       "stream": "stdout",
       "text": [
        "100 200 5000\n"
       ]
      }
     ],
     "prompt_number": 26
    },
    {
     "cell_type": "heading",
     "level": 1,
     "metadata": {},
     "source": [
      "Advanced Function Topics:"
     ]
    },
    {
     "cell_type": "code",
     "collapsed": false,
     "input": [
      "# indirect function calls:\n",
      "def f(a):\n",
      "    print a\n",
      "\n",
      "g = f\n",
      "g('Hi')    # indirect call (using a ref to the func)"
     ],
     "language": "python",
     "metadata": {},
     "outputs": [
      {
       "output_type": "stream",
       "stream": "stdout",
       "text": [
        "Hi\n"
       ]
      }
     ],
     "prompt_number": 29
    },
    {
     "cell_type": "code",
     "collapsed": false,
     "input": [
      "# What's the 'true' name of the function?\n",
      "g.__name__     # \"function introspection\""
     ],
     "language": "python",
     "metadata": {},
     "outputs": [
      {
       "metadata": {},
       "output_type": "pyout",
       "prompt_number": 32,
       "text": [
        "'f'"
       ]
      }
     ],
     "prompt_number": 32
    },
    {
     "cell_type": "code",
     "collapsed": false,
     "input": [
      "dir( f )    # attributes of the function 'f'"
     ],
     "language": "python",
     "metadata": {},
     "outputs": [
      {
       "metadata": {},
       "output_type": "pyout",
       "prompt_number": 33,
       "text": [
        "['__call__',\n",
        " '__class__',\n",
        " '__closure__',\n",
        " '__code__',\n",
        " '__defaults__',\n",
        " '__delattr__',\n",
        " '__dict__',\n",
        " '__doc__',\n",
        " '__format__',\n",
        " '__get__',\n",
        " '__getattribute__',\n",
        " '__globals__',\n",
        " '__hash__',\n",
        " '__init__',\n",
        " '__module__',\n",
        " '__name__',\n",
        " '__new__',\n",
        " '__reduce__',\n",
        " '__reduce_ex__',\n",
        " '__repr__',\n",
        " '__setattr__',\n",
        " '__sizeof__',\n",
        " '__str__',\n",
        " '__subclasshook__',\n",
        " 'func_closure',\n",
        " 'func_code',\n",
        " 'func_defaults',\n",
        " 'func_dict',\n",
        " 'func_doc',\n",
        " 'func_globals',\n",
        " 'func_name']"
       ]
      }
     ],
     "prompt_number": 33
    },
    {
     "cell_type": "code",
     "collapsed": false,
     "input": [
      "# attributes can be assigned to functions:\n",
      "f.num_of_calls = 0\n",
      "# they can emulate 'static locals' of other languages (variables that retain state between calls)"
     ],
     "language": "python",
     "metadata": {},
     "outputs": [],
     "prompt_number": 34
    },
    {
     "cell_type": "code",
     "collapsed": false,
     "input": [],
     "language": "python",
     "metadata": {},
     "outputs": []
    }
   ],
   "metadata": {}
  }
 ]
}