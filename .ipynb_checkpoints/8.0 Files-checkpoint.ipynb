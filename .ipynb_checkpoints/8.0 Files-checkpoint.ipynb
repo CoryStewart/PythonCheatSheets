{
 "metadata": {
  "name": ""
 },
 "nbformat": 3,
 "nbformat_minor": 0,
 "worksheets": [
  {
   "cells": [
    {
     "cell_type": "heading",
     "level": 1,
     "metadata": {},
     "source": [
      "Text Files:"
     ]
    },
    {
     "cell_type": "code",
     "collapsed": false,
     "input": [
      "outfile = open( 'test.txt', 'w' )\n",
      "outfile.write( 'hello\\npython\\nworld\\n' )\n",
      "outfile.close()\n",
      "\n",
      "for line in open('test.txt'):   # open file for reading --> returns an iterator\n",
      "    print( line.rstrip() )      # strip of \\n at right side"
     ],
     "language": "python",
     "metadata": {},
     "outputs": [
      {
       "output_type": "stream",
       "stream": "stdout",
       "text": [
        "hello\n",
        "python\n",
        "world\n"
       ]
      }
     ],
     "prompt_number": 1
    },
    {
     "cell_type": "code",
     "collapsed": false,
     "input": [
      "#f = open( r'C:\\spam', 'w' ) # use r'' to preserve special chars in string (raw string)\n",
      "f = open( 'data.txt', 'w' )  # write\n",
      "f.write( 'Hello\\n' )\n",
      "f.write( 'world\\n' )\n",
      "f.close()"
     ],
     "language": "python",
     "metadata": {},
     "outputs": [],
     "prompt_number": 2
    },
    {
     "cell_type": "code",
     "collapsed": false,
     "input": [
      "f = open( 'data.txt' ) # read   'r' is the default\n",
      "text = f.read() # read entire file into string\n",
      "text = f.read( 10 ) # read up to 10 chars\n",
      "# note, read accepts an optional max byte/char size\n",
      "text"
     ],
     "language": "python",
     "metadata": {},
     "outputs": [
      {
       "metadata": {},
       "output_type": "pyout",
       "prompt_number": 3,
       "text": [
        "''"
       ]
      }
     ],
     "prompt_number": 3
    },
    {
     "cell_type": "code",
     "collapsed": false,
     "input": [
      "print( text )"
     ],
     "language": "python",
     "metadata": {},
     "outputs": [
      {
       "output_type": "stream",
       "stream": "stdout",
       "text": [
        "\n"
       ]
      }
     ],
     "prompt_number": 4
    },
    {
     "cell_type": "code",
     "collapsed": false,
     "input": [
      "f.close()\n",
      "f = open( 'data.txt', 'r' )\n",
      "f.readline()  # read one line at a time"
     ],
     "language": "python",
     "metadata": {},
     "outputs": [
      {
       "metadata": {},
       "output_type": "pyout",
       "prompt_number": 5,
       "text": [
        "'Hello\\n'"
       ]
      }
     ],
     "prompt_number": 5
    },
    {
     "cell_type": "code",
     "collapsed": false,
     "input": [
      "f.readline() # read 2nd line"
     ],
     "language": "python",
     "metadata": {},
     "outputs": [
      {
       "metadata": {},
       "output_type": "pyout",
       "prompt_number": 6,
       "text": [
        "'world\\n'"
       ]
      }
     ],
     "prompt_number": 6
    },
    {
     "cell_type": "code",
     "collapsed": false,
     "input": [
      "#L = f.readlines()  # read entire file into a list"
     ],
     "language": "python",
     "metadata": {},
     "outputs": [],
     "prompt_number": 7
    },
    {
     "cell_type": "code",
     "collapsed": false,
     "input": [
      "f.close()"
     ],
     "language": "python",
     "metadata": {},
     "outputs": [],
     "prompt_number": 8
    },
    {
     "cell_type": "code",
     "collapsed": false,
     "input": [
      "for line in open('data.txt'):  print( line )"
     ],
     "language": "python",
     "metadata": {},
     "outputs": [
      {
       "output_type": "stream",
       "stream": "stdout",
       "text": [
        "Hello\n",
        "\n",
        "world\n",
        "\n"
       ]
      }
     ],
     "prompt_number": 9
    },
    {
     "cell_type": "code",
     "collapsed": false,
     "input": [
      "# Reading binary files:\n",
      "# open( 'f.bin', 'rb' )"
     ],
     "language": "python",
     "metadata": {},
     "outputs": [],
     "prompt_number": 10
    },
    {
     "cell_type": "code",
     "collapsed": false,
     "input": [
      "# Read whole file all at once into a string:\n",
      "open( 'data.txt' ).read()"
     ],
     "language": "python",
     "metadata": {},
     "outputs": [
      {
       "metadata": {},
       "output_type": "pyout",
       "prompt_number": 12,
       "text": [
        "'Hello\\nworld\\n'"
       ]
      }
     ],
     "prompt_number": 12
    },
    {
     "cell_type": "heading",
     "level": 1,
     "metadata": {},
     "source": [
      "Text File Processing:"
     ]
    },
    {
     "cell_type": "raw",
     "metadata": {},
     "source": [
      "with open(r'C:\\code\\data.txt') as myfile: # See Chapter 34 for details\n",
      "    for line in myfile:\n",
      "        ...use line here..."
     ]
    },
    {
     "cell_type": "heading",
     "level": 1,
     "metadata": {},
     "source": [
      "Pickle"
     ]
    },
    {
     "cell_type": "code",
     "collapsed": false,
     "input": [
      "# Writing Python datastructures to file in native (pickle) format:\n",
      ">>> D = {'a': 1, 'b': 2}\n",
      ">>> F = open('datafile.pkl', 'wb')\n",
      ">>> import pickle\n",
      ">>> pickle.dump(D, F) # Pickle any object to file\n",
      ">>> F.close()"
     ],
     "language": "python",
     "metadata": {},
     "outputs": [],
     "prompt_number": 15
    },
    {
     "cell_type": "code",
     "collapsed": false,
     "input": [
      "# Reading back\n",
      ">>> F = open('datafile.pkl', 'rb')\n",
      ">>> E = pickle.load(F) # Load any object from file\n",
      ">>> E"
     ],
     "language": "python",
     "metadata": {},
     "outputs": [
      {
       "metadata": {},
       "output_type": "pyout",
       "prompt_number": 17,
       "text": [
        "{'a': 1, 'b': 2}"
       ]
      }
     ],
     "prompt_number": 17
    },
    {
     "cell_type": "markdown",
     "metadata": {},
     "source": [
      "JSON\n",
      "---"
     ]
    },
    {
     "cell_type": "code",
     "collapsed": false,
     "input": [
      "# Writing:\n",
      "import json\n",
      "name = dict(first='Bob', last='Smith')\n",
      "rec = dict(name=name, job=['dev', 'mgr'], age=40.5)\n",
      "rec"
     ],
     "language": "python",
     "metadata": {},
     "outputs": [
      {
       "metadata": {},
       "output_type": "pyout",
       "prompt_number": 1,
       "text": [
        "{'age': 40.5, 'job': ['dev', 'mgr'], 'name': {'first': 'Bob', 'last': 'Smith'}}"
       ]
      }
     ],
     "prompt_number": 1
    },
    {
     "cell_type": "code",
     "collapsed": false,
     "input": [
      "# Converting a Python dict into a JSON string\n",
      "S = json.dumps(rec)\n",
      "S"
     ],
     "language": "python",
     "metadata": {},
     "outputs": [
      {
       "metadata": {},
       "output_type": "pyout",
       "prompt_number": 3,
       "text": [
        "'{\"age\": 40.5, \"job\": [\"dev\", \"mgr\"], \"name\": {\"last\": \"Smith\", \"first\": \"Bob\"}}'"
       ]
      }
     ],
     "prompt_number": 3
    },
    {
     "cell_type": "code",
     "collapsed": false,
     "input": [
      "# Reading JSON formatted string into a Python dict:\n",
      "D = json.loads(S)\n",
      "D"
     ],
     "language": "python",
     "metadata": {},
     "outputs": [
      {
       "metadata": {},
       "output_type": "pyout",
       "prompt_number": 5,
       "text": [
        "{u'age': 40.5,\n",
        " u'job': [u'dev', u'mgr'],\n",
        " u'name': {u'first': u'Bob', u'last': u'Smith'}}"
       ]
      }
     ],
     "prompt_number": 5
    },
    {
     "cell_type": "code",
     "collapsed": false,
     "input": [
      "# Writing a JSON file:\n",
      "json.dump(rec, fp=open('testjson.txt', 'w'), indent=4)\n",
      "print(open('testjson.txt').read())"
     ],
     "language": "python",
     "metadata": {},
     "outputs": [
      {
       "output_type": "stream",
       "stream": "stdout",
       "text": [
        "{\n",
        "    \"age\": 40.5, \n",
        "    \"job\": [\n",
        "        \"dev\", \n",
        "        \"mgr\"\n",
        "    ], \n",
        "    \"name\": {\n",
        "        \"last\": \"Smith\", \n",
        "        \"first\": \"Bob\"\n",
        "    }\n",
        "}\n"
       ]
      }
     ],
     "prompt_number": 6
    },
    {
     "cell_type": "heading",
     "level": 1,
     "metadata": {},
     "source": [
      "Binary Data"
     ]
    },
    {
     "cell_type": "code",
     "collapsed": false,
     "input": [
      "# Writing:\n",
      ">>> F = open('data.bin', 'wb') # Open binary output file\n",
      ">>> import struct\n",
      ">>> data = struct.pack('>i4sh', 7, b'spam', 8) # Make packed binary data\n",
      ">>> data"
     ],
     "language": "python",
     "metadata": {},
     "outputs": [
      {
       "metadata": {},
       "output_type": "pyout",
       "prompt_number": 10,
       "text": [
        "'\\x00\\x00\\x00\\x07spam\\x00\\x08'"
       ]
      }
     ],
     "prompt_number": 10
    },
    {
     "cell_type": "code",
     "collapsed": false,
     "input": [
      ">>> F.write(data) # Write byte string\n",
      ">>> F.close()"
     ],
     "language": "python",
     "metadata": {},
     "outputs": [],
     "prompt_number": 11
    },
    {
     "cell_type": "code",
     "collapsed": false,
     "input": [
      "# Reading:\n",
      ">>> F = open('data.bin', 'rb')\n",
      ">>> data = F.read() # Get packed binary data\n",
      ">>> data"
     ],
     "language": "python",
     "metadata": {},
     "outputs": [
      {
       "metadata": {},
       "output_type": "pyout",
       "prompt_number": 8,
       "text": [
        "'\\x00\\x00\\x00\\x07spam\\x00\\x08'"
       ]
      }
     ],
     "prompt_number": 8
    },
    {
     "cell_type": "code",
     "collapsed": false,
     "input": [
      ">>> values = struct.unpack('>i4sh', data) # Convert to Python objects\n",
      ">>> values"
     ],
     "language": "python",
     "metadata": {},
     "outputs": [
      {
       "metadata": {},
       "output_type": "pyout",
       "prompt_number": 9,
       "text": [
        "(7, 'spam', 8)"
       ]
      }
     ],
     "prompt_number": 9
    },
    {
     "cell_type": "heading",
     "level": 1,
     "metadata": {},
     "source": [
      "CSV Files:"
     ]
    },
    {
     "cell_type": "code",
     "collapsed": false,
     "input": [
      "# import csv\n",
      "# rdr = csv.reader(open('csvdata.txt'))"
     ],
     "language": "python",
     "metadata": {},
     "outputs": [],
     "prompt_number": 19
    },
    {
     "cell_type": "code",
     "collapsed": false,
     "input": [],
     "language": "python",
     "metadata": {},
     "outputs": []
    }
   ],
   "metadata": {}
  }
 ]
}