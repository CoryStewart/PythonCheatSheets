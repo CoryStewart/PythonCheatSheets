{
 "metadata": {
  "name": ""
 },
 "nbformat": 3,
 "nbformat_minor": 0,
 "worksheets": [
  {
   "cells": [
    {
     "cell_type": "code",
     "collapsed": false,
     "input": [
      "class Person:  # start a class\n",
      "    def __init__(self, name, job=None, pay=0):  # Constructor takes three args\n",
      "        self.name = name\n",
      "        self.job = job\n",
      "        self.pay = pay\n",
      "    def lastName(self): # Behavior methods\n",
      "        return self.name.split()[-1] # self is implied subject\n",
      "    def giveRaise(self, percent):\n",
      "        self.pay = int(self.pay * (1 + percent)) # Must change here only\n",
      "    def __repr__(self):    # this is the 2nd most commonly overloaded function for python OOP\n",
      "        return '[Person: %s, %s]' % (self.name, self.pay)\n",
      "    \n",
      "class Manager( Person ):   # Inherit Person attrs\n",
      "    def __init__(self, name, job='mgr', pay):  # Run Person's __init__ with job='mgr'\n",
      "    def giveRaise(self, percent, bonus=.10):\n",
      "        # For the sake of argument, let\u2019s assume that when a Manager gets a raise, it \n",
      "        # receives the passed-in percentage as usual, but also gets an extra bonus that \n",
      "        # defaults to 10%. For instance, if a Manager\u2019s raise is specified as 10%, it \n",
      "        # will really get 20%.\n",
      "        Person.giveRaise( self, percent + bonus )  # Call Person's version of giveRaise()\n",
      "        \n",
      "if __name__ == '__main__': # When run for testing only\n",
      "    # self-test code\n",
      "    bob = Person('Bob Smith')\n",
      "    sue = Person('Sue Jones', job='dev', pay=100000)\n",
      "    print(bob.name, bob.pay)\n",
      "    print(sue.name, sue.pay)\n",
      "    print(bob.lastName(), sue.lastName()) # Use the new methods\n",
      "    sue.giveRaise(.10) # instead of hardcoding\n",
      "    print(sue)\n",
      "    tom = Manager( 'Tom Jones', 'mgr', 50000)  # Make a Manager: __init__\n",
      "    print( tom )\n",
      "    tom.giveRaise(.10)                         # Runs manager version of giveRaise()\n",
      "    print( tom.lastName() )                    # Runs inherited method\n",
      "    print( tom )                               # Runs inherited __repr__\n",
      "    print \"Tom got 10% + 10% !\""
     ],
     "language": "python",
     "metadata": {},
     "outputs": [
      {
       "output_type": "stream",
       "stream": "stdout",
       "text": [
        "('Bob Smith', 0)\n",
        "('Sue Jones', 100000)\n",
        "('Smith', 'Jones')\n",
        "[Person: Sue Jones, 110000]\n",
        "[Person: Tom Jones, 50000]\n",
        "Jones\n",
        "[Person: Tom Jones, 60000]\n",
        "Tom got 10% + 10% !\n"
       ]
      }
     ],
     "prompt_number": 9
    },
    {
     "cell_type": "code",
     "collapsed": false,
     "input": [],
     "language": "python",
     "metadata": {},
     "outputs": []
    }
   ],
   "metadata": {}
  }
 ]
}