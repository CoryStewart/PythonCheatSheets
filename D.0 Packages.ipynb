{
 "metadata": {
  "name": ""
 },
 "nbformat": 3,
 "nbformat_minor": 0,
 "worksheets": [
  {
   "cells": [
    {
     "cell_type": "heading",
     "level": 1,
     "metadata": {},
     "source": [
      "Summary"
     ]
    },
    {
     "cell_type": "markdown",
     "metadata": {},
     "source": [
      "* Packages are similar to modules they're modules that have a directory path.  And the new subdir is a new namespace.\n",
      "* import dir1.dir2.module\n",
      "   * Here, dir1.dir2 correspond to a 'dir1/dir2' directory structure that is relative to one of the normal import search path directories.\n",
      "* dir1 and dir2 must both contain an __init__.py\n",
      "   * The __init__.py file will be executed on first import of the DIR.  It's a hook for doing initialization.  Can be empty files.\n",
      "\n",
      "* READ THE DOCS for more info.  This summary is not complete."
     ]
    },
    {
     "cell_type": "code",
     "collapsed": false,
     "input": [],
     "language": "python",
     "metadata": {},
     "outputs": []
    }
   ],
   "metadata": {}
  }
 ]
}