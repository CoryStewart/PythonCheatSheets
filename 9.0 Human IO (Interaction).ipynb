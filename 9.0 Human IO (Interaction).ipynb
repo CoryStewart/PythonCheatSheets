{
 "metadata": {
  "name": ""
 },
 "nbformat": 3,
 "nbformat_minor": 0,
 "worksheets": [
  {
   "cells": [
    {
     "cell_type": "code",
     "collapsed": false,
     "input": [
      "while True:\n",
      "    reply = raw_input('Enter text:')   # this is 2.X. use 'input' for python 3.x\n",
      "    if reply == 'stop': break\n",
      "    print(reply.upper())\n",
      "print( 'Bye' )"
     ],
     "language": "python",
     "metadata": {},
     "outputs": [
      {
       "name": "stdout",
       "output_type": "stream",
       "stream": "stdout",
       "text": [
        "Enter text:Hi\n"
       ]
      },
      {
       "output_type": "stream",
       "stream": "stdout",
       "text": [
        "HI\n"
       ]
      },
      {
       "name": "stdout",
       "output_type": "stream",
       "stream": "stdout",
       "text": [
        "Enter text:stop\n"
       ]
      },
      {
       "output_type": "stream",
       "stream": "stdout",
       "text": [
        "Bye\n"
       ]
      }
     ],
     "prompt_number": 3
    },
    {
     "cell_type": "code",
     "collapsed": false,
     "input": [
      "# User input is a string.  Convert to int or float to do math:\n",
      "# int(reply) ** 2\n",
      "# float(reply) - 2.5\n",
      "\n",
      "# Test inputs to avoid errors:\n",
      "reply.isdigit()\n"
     ],
     "language": "python",
     "metadata": {},
     "outputs": [
      {
       "metadata": {},
       "output_type": "pyout",
       "prompt_number": 4,
       "text": [
        "False"
       ]
      }
     ],
     "prompt_number": 4
    },
    {
     "cell_type": "code",
     "collapsed": false,
     "input": [
      "# Handle errors with try stmts:\n",
      "while True:\n",
      "    reply = raw_input('Enter text:')  # input for 3.X\n",
      "    if reply == 'stop': break\n",
      "    try:\n",
      "        num = int(reply)\n",
      "    except:\n",
      "        print('Bad!' * 8)\n",
      "    else:\n",
      "        print(num ** 2)\n",
      "print('Bye')"
     ],
     "language": "python",
     "metadata": {},
     "outputs": [
      {
       "name": "stdout",
       "output_type": "stream",
       "stream": "stdout",
       "text": [
        "Enter text:six\n"
       ]
      },
      {
       "output_type": "stream",
       "stream": "stdout",
       "text": [
        "Bad!Bad!Bad!Bad!Bad!Bad!Bad!Bad!\n"
       ]
      },
      {
       "name": "stdout",
       "output_type": "stream",
       "stream": "stdout",
       "text": [
        "Enter text:stop\n"
       ]
      },
      {
       "output_type": "stream",
       "stream": "stdout",
       "text": [
        "Bye\n"
       ]
      }
     ],
     "prompt_number": 6
    },
    {
     "cell_type": "code",
     "collapsed": false,
     "input": [],
     "language": "python",
     "metadata": {},
     "outputs": []
    }
   ],
   "metadata": {}
  }
 ]
}